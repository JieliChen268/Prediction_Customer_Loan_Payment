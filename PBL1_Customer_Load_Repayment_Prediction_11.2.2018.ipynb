{
 "cells": [
  {
   "cell_type": "markdown",
   "metadata": {},
   "source": [
    "#### Project goal: \n",
    "Afinancial institution wants us to help them in identifying customer who have a lesser chance of defaulting on the loan.Company management has asked the data science team to build a predictive model that would predict who would be a good customer for them and come up with questions to ask the client when they are applying for loan based on the model.\n",
    "\n",
    "- The Goal is to clean the dataset and get it ready for the Algorithms\n",
    "- Build an model to predict who is a good customer\n",
    "- Come up with questions to ask the customer when they apply for a loan"
   ]
  },
  {
   "cell_type": "code",
   "execution_count": 2785,
   "metadata": {},
   "outputs": [],
   "source": [
    "import numpy as np\n",
    "import pandas as pd\n",
    "import matplotlib.pyplot as plt\n",
    "%matplotlib inline"
   ]
  },
  {
   "cell_type": "code",
   "execution_count": 2786,
   "metadata": {
    "scrolled": false
   },
   "outputs": [
    {
     "name": "stderr",
     "output_type": "stream",
     "text": [
      "/anaconda3/lib/python3.6/site-packages/IPython/core/interactiveshell.py:2785: DtypeWarning: Columns (16) have mixed types. Specify dtype option on import or set low_memory=False.\n",
      "  interactivity=interactivity, compiler=compiler, result=result)\n"
     ]
    },
    {
     "data": {
      "text/html": [
       "<div>\n",
       "<style scoped>\n",
       "    .dataframe tbody tr th:only-of-type {\n",
       "        vertical-align: middle;\n",
       "    }\n",
       "\n",
       "    .dataframe tbody tr th {\n",
       "        vertical-align: top;\n",
       "    }\n",
       "\n",
       "    .dataframe thead th {\n",
       "        text-align: right;\n",
       "    }\n",
       "</style>\n",
       "<table border=\"1\" class=\"dataframe\">\n",
       "  <thead>\n",
       "    <tr style=\"text-align: right;\">\n",
       "      <th></th>\n",
       "      <th>Loan ID</th>\n",
       "      <th>Customer ID</th>\n",
       "      <th>Loan Status</th>\n",
       "      <th>Current Loan Amount</th>\n",
       "      <th>Term</th>\n",
       "      <th>Credit Score</th>\n",
       "      <th>Years in current job</th>\n",
       "      <th>Home Ownership</th>\n",
       "      <th>Annual Income</th>\n",
       "      <th>Purpose</th>\n",
       "      <th>Monthly Debt</th>\n",
       "      <th>Years of Credit History</th>\n",
       "      <th>Months since last delinquent</th>\n",
       "      <th>Number of Open Accounts</th>\n",
       "      <th>Number of Credit Problems</th>\n",
       "      <th>Current Credit Balance</th>\n",
       "      <th>Maximum Open Credit</th>\n",
       "      <th>Bankruptcies</th>\n",
       "      <th>Tax Liens</th>\n",
       "    </tr>\n",
       "  </thead>\n",
       "  <tbody>\n",
       "    <tr>\n",
       "      <th>0</th>\n",
       "      <td>000025bb-5694-4cff-b17d-192b1a98ba44</td>\n",
       "      <td>5ebc8bb1-5eb9-4404-b11b-a6eebc401a19</td>\n",
       "      <td>Fully Paid</td>\n",
       "      <td>11520</td>\n",
       "      <td>Short Term</td>\n",
       "      <td>741.0</td>\n",
       "      <td>10+ years</td>\n",
       "      <td>Home Mortgage</td>\n",
       "      <td>33694.0</td>\n",
       "      <td>Debt Consolidation</td>\n",
       "      <td>$584.03</td>\n",
       "      <td>12.3</td>\n",
       "      <td>41.0</td>\n",
       "      <td>10</td>\n",
       "      <td>0</td>\n",
       "      <td>6760</td>\n",
       "      <td>16056</td>\n",
       "      <td>0.0</td>\n",
       "      <td>0.0</td>\n",
       "    </tr>\n",
       "    <tr>\n",
       "      <th>1</th>\n",
       "      <td>00002c49-3a29-4bd4-8f67-c8f8fbc1048c</td>\n",
       "      <td>927b388d-2e01-423f-a8dc-f7e42d668f46</td>\n",
       "      <td>Fully Paid</td>\n",
       "      <td>3441</td>\n",
       "      <td>Short Term</td>\n",
       "      <td>734.0</td>\n",
       "      <td>4 years</td>\n",
       "      <td>Home Mortgage</td>\n",
       "      <td>42269.0</td>\n",
       "      <td>other</td>\n",
       "      <td>$1,106.04</td>\n",
       "      <td>26.3</td>\n",
       "      <td>NaN</td>\n",
       "      <td>17</td>\n",
       "      <td>0</td>\n",
       "      <td>6262</td>\n",
       "      <td>19149</td>\n",
       "      <td>0.0</td>\n",
       "      <td>0.0</td>\n",
       "    </tr>\n",
       "    <tr>\n",
       "      <th>2</th>\n",
       "      <td>00002d89-27f3-409b-aa76-90834f359a65</td>\n",
       "      <td>defce609-c631-447d-aad6-1270615e89c4</td>\n",
       "      <td>Fully Paid</td>\n",
       "      <td>21029</td>\n",
       "      <td>Short Term</td>\n",
       "      <td>747.0</td>\n",
       "      <td>10+ years</td>\n",
       "      <td>Home Mortgage</td>\n",
       "      <td>90126.0</td>\n",
       "      <td>Debt Consolidation</td>\n",
       "      <td>$1,321.85</td>\n",
       "      <td>28.8</td>\n",
       "      <td>NaN</td>\n",
       "      <td>5</td>\n",
       "      <td>0</td>\n",
       "      <td>20967</td>\n",
       "      <td>28335</td>\n",
       "      <td>0.0</td>\n",
       "      <td>0.0</td>\n",
       "    </tr>\n",
       "    <tr>\n",
       "      <th>3</th>\n",
       "      <td>00005222-b4d8-45a4-ad8c-186057e24233</td>\n",
       "      <td>070bcecb-aae7-4485-a26a-e0403e7bb6c5</td>\n",
       "      <td>Fully Paid</td>\n",
       "      <td>18743</td>\n",
       "      <td>Short Term</td>\n",
       "      <td>747.0</td>\n",
       "      <td>10+ years</td>\n",
       "      <td>Own Home</td>\n",
       "      <td>38072.0</td>\n",
       "      <td>Debt Consolidation</td>\n",
       "      <td>$751.92</td>\n",
       "      <td>26.2</td>\n",
       "      <td>NaN</td>\n",
       "      <td>9</td>\n",
       "      <td>0</td>\n",
       "      <td>22529</td>\n",
       "      <td>43915</td>\n",
       "      <td>0.0</td>\n",
       "      <td>0.0</td>\n",
       "    </tr>\n",
       "    <tr>\n",
       "      <th>4</th>\n",
       "      <td>0000757f-a121-41ed-b17b-162e76647c1f</td>\n",
       "      <td>dde79588-12f0-4811-bab0-e2b07f633fcd</td>\n",
       "      <td>Fully Paid</td>\n",
       "      <td>11731</td>\n",
       "      <td>Short Term</td>\n",
       "      <td>746.0</td>\n",
       "      <td>4 years</td>\n",
       "      <td>Rent</td>\n",
       "      <td>50025.0</td>\n",
       "      <td>Debt Consolidation</td>\n",
       "      <td>$355.18</td>\n",
       "      <td>11.5</td>\n",
       "      <td>NaN</td>\n",
       "      <td>12</td>\n",
       "      <td>0</td>\n",
       "      <td>17391</td>\n",
       "      <td>37081</td>\n",
       "      <td>0.0</td>\n",
       "      <td>0.0</td>\n",
       "    </tr>\n",
       "  </tbody>\n",
       "</table>\n",
       "</div>"
      ],
      "text/plain": [
       "                                Loan ID                           Customer ID  \\\n",
       "0  000025bb-5694-4cff-b17d-192b1a98ba44  5ebc8bb1-5eb9-4404-b11b-a6eebc401a19   \n",
       "1  00002c49-3a29-4bd4-8f67-c8f8fbc1048c  927b388d-2e01-423f-a8dc-f7e42d668f46   \n",
       "2  00002d89-27f3-409b-aa76-90834f359a65  defce609-c631-447d-aad6-1270615e89c4   \n",
       "3  00005222-b4d8-45a4-ad8c-186057e24233  070bcecb-aae7-4485-a26a-e0403e7bb6c5   \n",
       "4  0000757f-a121-41ed-b17b-162e76647c1f  dde79588-12f0-4811-bab0-e2b07f633fcd   \n",
       "\n",
       "  Loan Status  Current Loan Amount        Term  Credit Score  \\\n",
       "0  Fully Paid                11520  Short Term         741.0   \n",
       "1  Fully Paid                 3441  Short Term         734.0   \n",
       "2  Fully Paid                21029  Short Term         747.0   \n",
       "3  Fully Paid                18743  Short Term         747.0   \n",
       "4  Fully Paid                11731  Short Term         746.0   \n",
       "\n",
       "  Years in current job Home Ownership  Annual Income             Purpose  \\\n",
       "0            10+ years  Home Mortgage        33694.0  Debt Consolidation   \n",
       "1              4 years  Home Mortgage        42269.0               other   \n",
       "2            10+ years  Home Mortgage        90126.0  Debt Consolidation   \n",
       "3            10+ years       Own Home        38072.0  Debt Consolidation   \n",
       "4              4 years           Rent        50025.0  Debt Consolidation   \n",
       "\n",
       "  Monthly Debt  Years of Credit History  Months since last delinquent  \\\n",
       "0      $584.03                     12.3                          41.0   \n",
       "1   $1,106.04                      26.3                           NaN   \n",
       "2   $1,321.85                      28.8                           NaN   \n",
       "3      $751.92                     26.2                           NaN   \n",
       "4      $355.18                     11.5                           NaN   \n",
       "\n",
       "   Number of Open Accounts  Number of Credit Problems  Current Credit Balance  \\\n",
       "0                       10                          0                    6760   \n",
       "1                       17                          0                    6262   \n",
       "2                        5                          0                   20967   \n",
       "3                        9                          0                   22529   \n",
       "4                       12                          0                   17391   \n",
       "\n",
       "  Maximum Open Credit  Bankruptcies  Tax Liens  \n",
       "0               16056           0.0        0.0  \n",
       "1               19149           0.0        0.0  \n",
       "2               28335           0.0        0.0  \n",
       "3               43915           0.0        0.0  \n",
       "4               37081           0.0        0.0  "
      ]
     },
     "execution_count": 2786,
     "metadata": {},
     "output_type": "execute_result"
    }
   ],
   "source": [
    "data = pd.read_csv('1533148983_LoansTrainingSet.csv')\n",
    "data.head(5)"
   ]
  },
  {
   "cell_type": "code",
   "execution_count": 2787,
   "metadata": {},
   "outputs": [
    {
     "data": {
      "text/plain": [
       "(256984, 19)"
      ]
     },
     "execution_count": 2787,
     "metadata": {},
     "output_type": "execute_result"
    }
   ],
   "source": [
    "data.shape"
   ]
  },
  {
   "cell_type": "code",
   "execution_count": 2788,
   "metadata": {
    "scrolled": true
   },
   "outputs": [
    {
     "name": "stdout",
     "output_type": "stream",
     "text": [
      "loan ID unique number :  215700\n",
      "customer ID uniuqe number :  215700\n"
     ]
    }
   ],
   "source": [
    "# check duplicates since load ID is A unique Identifier for the loan information.\n",
    "print('loan ID unique number : ', data['Loan ID'].nunique()) \n",
    "print('customer ID uniuqe number : ', data['Customer ID'].nunique())\n",
    "# Loan ID unique number is less than data shape, it has duplicate records with same Loan id\n",
    "# loan ID unique number is same as customer unique ID "
   ]
  },
  {
   "cell_type": "code",
   "execution_count": 2789,
   "metadata": {},
   "outputs": [
    {
     "name": "stdout",
     "output_type": "stream",
     "text": [
      "(215700, 19)\n"
     ]
    }
   ],
   "source": [
    "# drop duplicates\n",
    "df = data.drop_duplicates(subset='Loan ID')\n",
    "print(df.shape)"
   ]
  },
  {
   "cell_type": "code",
   "execution_count": 2790,
   "metadata": {
    "scrolled": true
   },
   "outputs": [
    {
     "name": "stdout",
     "output_type": "stream",
     "text": [
      "<class 'pandas.core.frame.DataFrame'>\n",
      "RangeIndex: 256984 entries, 0 to 256983\n",
      "Data columns (total 19 columns):\n",
      "Loan ID                         256984 non-null object\n",
      "Customer ID                     256984 non-null object\n",
      "Loan Status                     256984 non-null object\n",
      "Current Loan Amount             256984 non-null int64\n",
      "Term                            256984 non-null object\n",
      "Credit Score                    195308 non-null float64\n",
      "Years in current job            245508 non-null object\n",
      "Home Ownership                  256984 non-null object\n",
      "Annual Income                   195308 non-null float64\n",
      "Purpose                         256984 non-null object\n",
      "Monthly Debt                    256984 non-null object\n",
      "Years of Credit History         256984 non-null float64\n",
      "Months since last delinquent    116601 non-null float64\n",
      "Number of Open Accounts         256984 non-null int64\n",
      "Number of Credit Problems       256984 non-null int64\n",
      "Current Credit Balance          256984 non-null int64\n",
      "Maximum Open Credit             256984 non-null object\n",
      "Bankruptcies                    256455 non-null float64\n",
      "Tax Liens                       256961 non-null float64\n",
      "dtypes: float64(6), int64(4), object(9)\n",
      "memory usage: 37.3+ MB\n"
     ]
    }
   ],
   "source": [
    "data.info()"
   ]
  },
  {
   "cell_type": "code",
   "execution_count": 2791,
   "metadata": {},
   "outputs": [
    {
     "data": {
      "text/plain": [
       "Credit Score                     55008\n",
       "Years in current job              8990\n",
       "Annual Income                    55008\n",
       "Months since last delinquent    118262\n",
       "Bankruptcies                       452\n",
       "Tax Liens                           22\n",
       "dtype: int64"
      ]
     },
     "execution_count": 2791,
     "metadata": {},
     "output_type": "execute_result"
    }
   ],
   "source": [
    "# check NaN colums\n",
    "missing = df.isnull().sum()\n",
    "missing[missing > 0]"
   ]
  },
  {
   "cell_type": "code",
   "execution_count": 2792,
   "metadata": {},
   "outputs": [],
   "source": [
    "# A tax lien is a legal claim by a government entity against a noncompliant taxpayer's assets. \n",
    "# Tax liens are a last resort to force an individual or business to pay back taxes."
   ]
  },
  {
   "cell_type": "code",
   "execution_count": 2793,
   "metadata": {},
   "outputs": [],
   "source": [
    "# data cleaning for for the all NON missing data\n",
    "# convert data object data type to numerical data type \n",
    "# check the disbribution of numerical data type"
   ]
  },
  {
   "cell_type": "code",
   "execution_count": 2794,
   "metadata": {},
   "outputs": [
    {
     "name": "stdout",
     "output_type": "stream",
     "text": [
      "['Fully Paid' 'Charged Off']\n"
     ]
    }
   ],
   "source": [
    "# Loan status : A categorical variable indicating if the loan was paid back or defaulted, (which the predict Y)\n",
    "print(df['Loan Status'].unique())"
   ]
  },
  {
   "cell_type": "code",
   "execution_count": 2795,
   "metadata": {
    "scrolled": false
   },
   "outputs": [
    {
     "name": "stdout",
     "output_type": "stream",
     "text": [
      "[1 0]\n"
     ]
    },
    {
     "name": "stderr",
     "output_type": "stream",
     "text": [
      "/anaconda3/lib/python3.6/site-packages/ipykernel_launcher.py:2: SettingWithCopyWarning: \n",
      "A value is trying to be set on a copy of a slice from a DataFrame.\n",
      "Try using .loc[row_indexer,col_indexer] = value instead\n",
      "\n",
      "See the caveats in the documentation: http://pandas.pydata.org/pandas-docs/stable/indexing.html#indexing-view-versus-copy\n",
      "  \n"
     ]
    }
   ],
   "source": [
    "dict = {'Fully Paid': 1, 'Charged Off' : 0}\n",
    "df['loan_status'] = df['Loan Status'].map(dict)\n",
    "print(df['loan_status'].unique())"
   ]
  },
  {
   "cell_type": "code",
   "execution_count": 2796,
   "metadata": {},
   "outputs": [],
   "source": [
    "# Current Loan Amount : This is the loan amount that was either completely paid off, or the amount that was defaulted.\n",
    "# Could convert to two features for completely paid off or the amount fefaulted later\n",
    "col = 'Current Loan Amount'"
   ]
  },
  {
   "cell_type": "code",
   "execution_count": 2797,
   "metadata": {},
   "outputs": [
    {
     "name": "stdout",
     "output_type": "stream",
     "text": [
      "current loan amount min :  505\n",
      "current loan amount median :  14642.0\n",
      "current loan amount max :  99999999\n"
     ]
    },
    {
     "data": {
      "text/plain": [
       "99999999    35210\n",
       "9793           50\n",
       "9820           48\n",
       "5920           43\n",
       "10192          43\n",
       "10137          42\n",
       "9941           42\n",
       "10096          42\n",
       "9781           42\n",
       "10132          42\n",
       "10025          42\n",
       "10226          41\n",
       "9839           41\n",
       "10211          41\n",
       "8154           41\n",
       "7970           40\n",
       "10214          40\n",
       "9827           40\n",
       "9984           40\n",
       "9981           40\n",
       "9851           40\n",
       "9767           40\n",
       "10248          39\n",
       "9931           39\n",
       "6122           39\n",
       "10144          39\n",
       "9947           39\n",
       "9816           39\n",
       "7938           39\n",
       "10085          39\n",
       "            ...  \n",
       "32160           1\n",
       "30113           1\n",
       "27282           1\n",
       "29329           1\n",
       "25801           1\n",
       "21925           1\n",
       "13507           1\n",
       "26209           1\n",
       "3652            1\n",
       "1861            1\n",
       "5831            1\n",
       "21528           1\n",
       "23577           1\n",
       "17434           1\n",
       "28128           1\n",
       "31773           1\n",
       "25630           1\n",
       "5264            1\n",
       "21797           1\n",
       "12953           1\n",
       "1605            1\n",
       "14019           1\n",
       "17997           1\n",
       "22009           1\n",
       "21656           1\n",
       "5703            1\n",
       "17562           1\n",
       "13813           1\n",
       "29852           1\n",
       "28063           1\n",
       "Name: Current Loan Amount, Length: 27311, dtype: int64"
      ]
     },
     "execution_count": 2797,
     "metadata": {},
     "output_type": "execute_result"
    }
   ],
   "source": [
    "# plt.hist(df['Current Loan Amount'], bins = 200, range = [505, 99999999]);\n",
    "# df.boxplot(column = 'Current Loan Amount')\n",
    "print('current loan amount min : ', df['Current Loan Amount'].min())\n",
    "print('current loan amount median : ', df['Current Loan Amount'].median())\n",
    "print('current loan amount max : ', df['Current Loan Amount'].max())\n",
    "df[col]\n",
    "df[col].value_counts()#.sort_values()"
   ]
  },
  {
   "cell_type": "code",
   "execution_count": 2798,
   "metadata": {
    "scrolled": false
   },
   "outputs": [
    {
     "data": {
      "text/plain": [
       "loan_status  Current Loan Amount\n",
       "1            99999999               35210\n",
       "Name: Current Loan Amount, dtype: int64"
      ]
     },
     "execution_count": 2798,
     "metadata": {},
     "output_type": "execute_result"
    }
   ],
   "source": [
    "s = df[df[col]==99999999]\n",
    "s.groupby(['loan_status'])[col].value_counts()"
   ]
  },
  {
   "cell_type": "code",
   "execution_count": 2799,
   "metadata": {
    "scrolled": true
   },
   "outputs": [
    {
     "data": {
      "text/html": [
       "<div>\n",
       "<style scoped>\n",
       "    .dataframe tbody tr th:only-of-type {\n",
       "        vertical-align: middle;\n",
       "    }\n",
       "\n",
       "    .dataframe tbody tr th {\n",
       "        vertical-align: top;\n",
       "    }\n",
       "\n",
       "    .dataframe thead th {\n",
       "        text-align: right;\n",
       "    }\n",
       "</style>\n",
       "<table border=\"1\" class=\"dataframe\">\n",
       "  <thead>\n",
       "    <tr style=\"text-align: right;\">\n",
       "      <th></th>\n",
       "      <th>Loan ID</th>\n",
       "      <th>Customer ID</th>\n",
       "      <th>Loan Status</th>\n",
       "      <th>Current Loan Amount</th>\n",
       "      <th>Term</th>\n",
       "      <th>Credit Score</th>\n",
       "      <th>Years in current job</th>\n",
       "      <th>Home Ownership</th>\n",
       "      <th>Annual Income</th>\n",
       "      <th>Purpose</th>\n",
       "      <th>Monthly Debt</th>\n",
       "      <th>Years of Credit History</th>\n",
       "      <th>Months since last delinquent</th>\n",
       "      <th>Number of Open Accounts</th>\n",
       "      <th>Number of Credit Problems</th>\n",
       "      <th>Current Credit Balance</th>\n",
       "      <th>Maximum Open Credit</th>\n",
       "      <th>Bankruptcies</th>\n",
       "      <th>Tax Liens</th>\n",
       "      <th>loan_status</th>\n",
       "    </tr>\n",
       "  </thead>\n",
       "  <tbody>\n",
       "    <tr>\n",
       "      <th>10</th>\n",
       "      <td>00020fb0-6b8a-4b3a-8c72-9c4c847e8cb6</td>\n",
       "      <td>c9decd06-16f7-44c3-b007-8776f2a9233d</td>\n",
       "      <td>Fully Paid</td>\n",
       "      <td>99999999</td>\n",
       "      <td>Short Term</td>\n",
       "      <td>742.0</td>\n",
       "      <td>3 years</td>\n",
       "      <td>Home Mortgage</td>\n",
       "      <td>64760.0</td>\n",
       "      <td>Debt Consolidation</td>\n",
       "      <td>$582.84</td>\n",
       "      <td>26.8</td>\n",
       "      <td>NaN</td>\n",
       "      <td>11</td>\n",
       "      <td>0</td>\n",
       "      <td>8880</td>\n",
       "      <td>22711</td>\n",
       "      <td>0.0</td>\n",
       "      <td>0.0</td>\n",
       "      <td>1</td>\n",
       "    </tr>\n",
       "    <tr>\n",
       "      <th>16</th>\n",
       "      <td>0002c691-5314-44ab-b205-3fb1cc4ee6b2</td>\n",
       "      <td>41207d1e-5d13-43ec-9fe9-f222b4da5e0c</td>\n",
       "      <td>Fully Paid</td>\n",
       "      <td>99999999</td>\n",
       "      <td>Short Term</td>\n",
       "      <td>744.0</td>\n",
       "      <td>6 years</td>\n",
       "      <td>Home Mortgage</td>\n",
       "      <td>65605.0</td>\n",
       "      <td>Debt Consolidation</td>\n",
       "      <td>$984.07</td>\n",
       "      <td>21.0</td>\n",
       "      <td>NaN</td>\n",
       "      <td>5</td>\n",
       "      <td>1</td>\n",
       "      <td>11514</td>\n",
       "      <td>17262</td>\n",
       "      <td>1.0</td>\n",
       "      <td>0.0</td>\n",
       "      <td>1</td>\n",
       "    </tr>\n",
       "  </tbody>\n",
       "</table>\n",
       "</div>"
      ],
      "text/plain": [
       "                                 Loan ID  \\\n",
       "10  00020fb0-6b8a-4b3a-8c72-9c4c847e8cb6   \n",
       "16  0002c691-5314-44ab-b205-3fb1cc4ee6b2   \n",
       "\n",
       "                             Customer ID Loan Status  Current Loan Amount  \\\n",
       "10  c9decd06-16f7-44c3-b007-8776f2a9233d  Fully Paid             99999999   \n",
       "16  41207d1e-5d13-43ec-9fe9-f222b4da5e0c  Fully Paid             99999999   \n",
       "\n",
       "          Term  Credit Score Years in current job Home Ownership  \\\n",
       "10  Short Term         742.0              3 years  Home Mortgage   \n",
       "16  Short Term         744.0              6 years  Home Mortgage   \n",
       "\n",
       "    Annual Income             Purpose Monthly Debt  Years of Credit History  \\\n",
       "10        64760.0  Debt Consolidation      $582.84                     26.8   \n",
       "16        65605.0  Debt Consolidation      $984.07                     21.0   \n",
       "\n",
       "    Months since last delinquent  Number of Open Accounts  \\\n",
       "10                           NaN                       11   \n",
       "16                           NaN                        5   \n",
       "\n",
       "    Number of Credit Problems  Current Credit Balance Maximum Open Credit  \\\n",
       "10                          0                    8880               22711   \n",
       "16                          1                   11514               17262   \n",
       "\n",
       "    Bankruptcies  Tax Liens  loan_status  \n",
       "10           0.0        0.0            1  \n",
       "16           1.0        0.0            1  "
      ]
     },
     "execution_count": 2799,
     "metadata": {},
     "output_type": "execute_result"
    }
   ],
   "source": [
    "s.head(2)"
   ]
  },
  {
   "cell_type": "code",
   "execution_count": 2800,
   "metadata": {
    "scrolled": true
   },
   "outputs": [
    {
     "data": {
      "image/png": "[encoded data removed]",
      "text/plain": [
       "<Figure size 432x288 with 1 Axes>"
      ]
     },
     "metadata": {},
     "output_type": "display_data"
    }
   ],
   "source": [
    "plt.hist(df[col][df[col] < 99999999], bins = 200);"
   ]
  },
  {
   "cell_type": "code",
   "execution_count": 2801,
   "metadata": {},
   "outputs": [],
   "source": [
    "# Term : A categorical variable indicating if it is a short term or long term loan\n",
    "col = 'Term'"
   ]
  },
  {
   "cell_type": "code",
   "execution_count": 2802,
   "metadata": {},
   "outputs": [
    {
     "name": "stdout",
     "output_type": "stream",
     "text": [
      "shape:  (215700,)\n",
      "term missing:  0\n",
      "term date type object\n",
      "term unique value:  ['Short Term' 'Long Term']\n"
     ]
    }
   ],
   "source": [
    "print('shape: ', df[col].shape)\n",
    "print('term missing: ', df[col].isnull().sum())\n",
    "print('term date type', df[col].dtype)\n",
    "print('term unique value: ', df[col].unique())"
   ]
  },
  {
   "cell_type": "code",
   "execution_count": 2803,
   "metadata": {},
   "outputs": [
    {
     "name": "stdout",
     "output_type": "stream",
     "text": [
      "[1 2]\n"
     ]
    },
    {
     "name": "stderr",
     "output_type": "stream",
     "text": [
      "/anaconda3/lib/python3.6/site-packages/ipykernel_launcher.py:2: SettingWithCopyWarning: \n",
      "A value is trying to be set on a copy of a slice from a DataFrame.\n",
      "Try using .loc[row_indexer,col_indexer] = value instead\n",
      "\n",
      "See the caveats in the documentation: http://pandas.pydata.org/pandas-docs/stable/indexing.html#indexing-view-versus-copy\n",
      "  \n"
     ]
    }
   ],
   "source": [
    "t = {'Short Term': 1, 'Long Term': 2}\n",
    "df[col] = df[col].map(t)\n",
    "print(df[col].unique())"
   ]
  },
  {
   "cell_type": "code",
   "execution_count": 2804,
   "metadata": {},
   "outputs": [],
   "source": [
    "# Credit Score : A value between 0 and 800 indicating the riskiness of the borrowers credit history.\n",
    "col = 'Credit Score'"
   ]
  },
  {
   "cell_type": "code",
   "execution_count": 2805,
   "metadata": {
    "scrolled": false
   },
   "outputs": [
    {
     "name": "stdout",
     "output_type": "stream",
     "text": [
      "shape:  (215700,)\n",
      "missing:  55008\n",
      "date type float64\n",
      "unique value:  334\n"
     ]
    }
   ],
   "source": [
    "print('shape: ', df[col].shape)\n",
    "print('missing: ', df[col].isnull().sum())\n",
    "print('date type', df[col].dtype)\n",
    "print('unique value: ', df[col].nunique())"
   ]
  },
  {
   "cell_type": "code",
   "execution_count": 2806,
   "metadata": {
    "scrolled": false
   },
   "outputs": [
    {
     "name": "stdout",
     "output_type": "stream",
     "text": [
      "max :  7510.0\n",
      "median :  736.0\n",
      "min :  585.0\n"
     ]
    }
   ],
   "source": [
    "print('max : ', df[col].max())\n",
    "print('median : ', df[col].median())\n",
    "print('min : ', df[col].min())"
   ]
  },
  {
   "cell_type": "code",
   "execution_count": 2807,
   "metadata": {
    "scrolled": false
   },
   "outputs": [
    {
     "data": {
      "text/plain": [
       "6380.0      28\n",
       "612.0       26\n",
       "691.0      468\n",
       "607.0       24\n",
       "6780.0      69\n",
       "735.0     3050\n",
       "626.0       58\n",
       "6630.0      45\n",
       "689.0      440\n",
       "695.0      596\n",
       "Name: Credit Score, dtype: int64"
      ]
     },
     "execution_count": 2807,
     "metadata": {},
     "output_type": "execute_result"
    }
   ],
   "source": [
    "df[col].value_counts().sort_values(ascending=True).sample(10)"
   ]
  },
  {
   "cell_type": "code",
   "execution_count": 2808,
   "metadata": {
    "scrolled": true
   },
   "outputs": [
    {
     "name": "stdout",
     "output_type": "stream",
     "text": [
      "(14433, 20)\n"
     ]
    },
    {
     "data": {
      "text/html": [
       "<div>\n",
       "<style scoped>\n",
       "    .dataframe tbody tr th:only-of-type {\n",
       "        vertical-align: middle;\n",
       "    }\n",
       "\n",
       "    .dataframe tbody tr th {\n",
       "        vertical-align: top;\n",
       "    }\n",
       "\n",
       "    .dataframe thead th {\n",
       "        text-align: right;\n",
       "    }\n",
       "</style>\n",
       "<table border=\"1\" class=\"dataframe\">\n",
       "  <thead>\n",
       "    <tr style=\"text-align: right;\">\n",
       "      <th></th>\n",
       "      <th>Loan ID</th>\n",
       "      <th>Customer ID</th>\n",
       "      <th>Loan Status</th>\n",
       "      <th>Current Loan Amount</th>\n",
       "      <th>Term</th>\n",
       "      <th>Credit Score</th>\n",
       "      <th>Years in current job</th>\n",
       "      <th>Home Ownership</th>\n",
       "      <th>Annual Income</th>\n",
       "      <th>Purpose</th>\n",
       "      <th>Monthly Debt</th>\n",
       "      <th>Years of Credit History</th>\n",
       "      <th>Months since last delinquent</th>\n",
       "      <th>Number of Open Accounts</th>\n",
       "      <th>Number of Credit Problems</th>\n",
       "      <th>Current Credit Balance</th>\n",
       "      <th>Maximum Open Credit</th>\n",
       "      <th>Bankruptcies</th>\n",
       "      <th>Tax Liens</th>\n",
       "      <th>loan_status</th>\n",
       "    </tr>\n",
       "  </thead>\n",
       "  <tbody>\n",
       "    <tr>\n",
       "      <th>6</th>\n",
       "      <td>0000afa6-8902-4f8f-b870-25a8fdad0aeb</td>\n",
       "      <td>e49c1a82-a0f7-45e8-9f46-2f75c43f9fbc</td>\n",
       "      <td>Charged Off</td>\n",
       "      <td>24613</td>\n",
       "      <td>2</td>\n",
       "      <td>6640.0</td>\n",
       "      <td>6 years</td>\n",
       "      <td>Rent</td>\n",
       "      <td>49225.0</td>\n",
       "      <td>Business Loan</td>\n",
       "      <td>$542.29</td>\n",
       "      <td>17.6</td>\n",
       "      <td>73.0</td>\n",
       "      <td>7</td>\n",
       "      <td>0</td>\n",
       "      <td>14123</td>\n",
       "      <td>16954</td>\n",
       "      <td>0.0</td>\n",
       "      <td>0.0</td>\n",
       "      <td>0</td>\n",
       "    </tr>\n",
       "    <tr>\n",
       "      <th>55</th>\n",
       "      <td>000c0c27-1961-4336-b760-a300e1bce9b0</td>\n",
       "      <td>881edf98-387c-4eef-ab71-317a7a5e70c1</td>\n",
       "      <td>Charged Off</td>\n",
       "      <td>6463</td>\n",
       "      <td>1</td>\n",
       "      <td>7320.0</td>\n",
       "      <td>1 year</td>\n",
       "      <td>Own Home</td>\n",
       "      <td>25248.0</td>\n",
       "      <td>Debt Consolidation</td>\n",
       "      <td>$633.29</td>\n",
       "      <td>19.9</td>\n",
       "      <td>74.0</td>\n",
       "      <td>9</td>\n",
       "      <td>0</td>\n",
       "      <td>8025</td>\n",
       "      <td>24317</td>\n",
       "      <td>0.0</td>\n",
       "      <td>0.0</td>\n",
       "      <td>0</td>\n",
       "    </tr>\n",
       "    <tr>\n",
       "      <th>71</th>\n",
       "      <td>000f1140-ef9f-42f9-9898-f9b3162bf0da</td>\n",
       "      <td>442c2d9b-3d95-44a9-bcb4-0dc80a941e3c</td>\n",
       "      <td>Charged Off</td>\n",
       "      <td>6007</td>\n",
       "      <td>1</td>\n",
       "      <td>7180.0</td>\n",
       "      <td>10+ years</td>\n",
       "      <td>Home Mortgage</td>\n",
       "      <td>43052.0</td>\n",
       "      <td>Debt Consolidation</td>\n",
       "      <td>$538.15</td>\n",
       "      <td>23.6</td>\n",
       "      <td>13.0</td>\n",
       "      <td>6</td>\n",
       "      <td>0</td>\n",
       "      <td>5077</td>\n",
       "      <td>7811</td>\n",
       "      <td>0.0</td>\n",
       "      <td>0.0</td>\n",
       "      <td>0</td>\n",
       "    </tr>\n",
       "  </tbody>\n",
       "</table>\n",
       "</div>"
      ],
      "text/plain": [
       "                                 Loan ID  \\\n",
       "6   0000afa6-8902-4f8f-b870-25a8fdad0aeb   \n",
       "55  000c0c27-1961-4336-b760-a300e1bce9b0   \n",
       "71  000f1140-ef9f-42f9-9898-f9b3162bf0da   \n",
       "\n",
       "                             Customer ID  Loan Status  Current Loan Amount  \\\n",
       "6   e49c1a82-a0f7-45e8-9f46-2f75c43f9fbc  Charged Off                24613   \n",
       "55  881edf98-387c-4eef-ab71-317a7a5e70c1  Charged Off                 6463   \n",
       "71  442c2d9b-3d95-44a9-bcb4-0dc80a941e3c  Charged Off                 6007   \n",
       "\n",
       "    Term  Credit Score Years in current job Home Ownership  Annual Income  \\\n",
       "6      2        6640.0              6 years           Rent        49225.0   \n",
       "55     1        7320.0               1 year       Own Home        25248.0   \n",
       "71     1        7180.0            10+ years  Home Mortgage        43052.0   \n",
       "\n",
       "               Purpose Monthly Debt  Years of Credit History  \\\n",
       "6        Business Loan      $542.29                     17.6   \n",
       "55  Debt Consolidation      $633.29                     19.9   \n",
       "71  Debt Consolidation      $538.15                     23.6   \n",
       "\n",
       "    Months since last delinquent  Number of Open Accounts  \\\n",
       "6                           73.0                        7   \n",
       "55                          74.0                        9   \n",
       "71                          13.0                        6   \n",
       "\n",
       "    Number of Credit Problems  Current Credit Balance Maximum Open Credit  \\\n",
       "6                           0                   14123               16954   \n",
       "55                          0                    8025               24317   \n",
       "71                          0                    5077                7811   \n",
       "\n",
       "    Bankruptcies  Tax Liens  loan_status  \n",
       "6            0.0        0.0            0  \n",
       "55           0.0        0.0            0  \n",
       "71           0.0        0.0            0  "
      ]
     },
     "execution_count": 2808,
     "metadata": {},
     "output_type": "execute_result"
    }
   ],
   "source": [
    "abnormal = df[df[col] > 850]\n",
    "print(abnormal.shape)\n",
    "abnormal.head(3)\n",
    "# abnormal[col] = abnormal[col].apply(lambda x : x / 10)"
   ]
  },
  {
   "cell_type": "code",
   "execution_count": 2809,
   "metadata": {
    "scrolled": true
   },
   "outputs": [
    {
     "name": "stderr",
     "output_type": "stream",
     "text": [
      "/anaconda3/lib/python3.6/site-packages/ipykernel_launcher.py:2: SettingWithCopyWarning: \n",
      "A value is trying to be set on a copy of a slice from a DataFrame\n",
      "\n",
      "See the caveats in the documentation: http://pandas.pydata.org/pandas-docs/stable/indexing.html#indexing-view-versus-copy\n",
      "  \n",
      "/anaconda3/lib/python3.6/site-packages/pandas/core/generic.py:7620: SettingWithCopyWarning: \n",
      "A value is trying to be set on a copy of a slice from a DataFrame\n",
      "\n",
      "See the caveats in the documentation: http://pandas.pydata.org/pandas-docs/stable/indexing.html#indexing-view-versus-copy\n",
      "  self._update_inplace(new_data)\n",
      "/anaconda3/lib/python3.6/site-packages/IPython/core/interactiveshell.py:2963: SettingWithCopyWarning: \n",
      "A value is trying to be set on a copy of a slice from a DataFrame\n",
      "\n",
      "See the caveats in the documentation: http://pandas.pydata.org/pandas-docs/stable/indexing.html#indexing-view-versus-copy\n",
      "  exec(code_obj, self.user_global_ns, self.user_ns)\n"
     ]
    }
   ],
   "source": [
    "# df[col] = df[col].apply(lambda x : x / 10 if x > 850 else x).astype(int) not applyable for NaN value \n",
    "df[col][df[col] > 850]  = df[col].apply(lambda x: x / 10).astype(float)\n",
    "# df[col][df[col] > 850] = df[col] / 10"
   ]
  },
  {
   "cell_type": "code",
   "execution_count": 2810,
   "metadata": {
    "scrolled": false
   },
   "outputs": [
    {
     "name": "stdout",
     "output_type": "stream",
     "text": [
      "max :  751.0\n",
      "median :  732.0\n",
      "min :  585.0\n"
     ]
    }
   ],
   "source": [
    "print('max : ', df[col].max())\n",
    "print('median : ', df[col].median())\n",
    "print('min : ', df[col].min())"
   ]
  },
  {
   "cell_type": "code",
   "execution_count": 2811,
   "metadata": {},
   "outputs": [],
   "source": [
    "def fun(x):\n",
    "    if x < 550:\n",
    "        x = 'bad'\n",
    "    elif 550<= x < 670:\n",
    "        x = 'fair'\n",
    "    elif 670 <= x < 740:\n",
    "        x = 'good'\n",
    "    elif 740 <= x < 800:\n",
    "        x = 'very_good'\n",
    "    elif x >= 800:\n",
    "        x = 'exceptional'\n",
    "    return x"
   ]
  },
  {
   "cell_type": "code",
   "execution_count": 2812,
   "metadata": {},
   "outputs": [
    {
     "name": "stderr",
     "output_type": "stream",
     "text": [
      "/anaconda3/lib/python3.6/site-packages/ipykernel_launcher.py:1: SettingWithCopyWarning: \n",
      "A value is trying to be set on a copy of a slice from a DataFrame.\n",
      "Try using .loc[row_indexer,col_indexer] = value instead\n",
      "\n",
      "See the caveats in the documentation: http://pandas.pydata.org/pandas-docs/stable/indexing.html#indexing-view-versus-copy\n",
      "  \"\"\"Entry point for launching an IPython kernel.\n"
     ]
    }
   ],
   "source": [
    "df['credit_level'] = df[col].apply(fun)"
   ]
  },
  {
   "cell_type": "code",
   "execution_count": 2813,
   "metadata": {
    "scrolled": true
   },
   "outputs": [
    {
     "data": {
      "text/plain": [
       "good         98933\n",
       "very_good    53255\n",
       "fair          8504\n",
       "Name: credit_level, dtype: int64"
      ]
     },
     "execution_count": 2813,
     "metadata": {},
     "output_type": "execute_result"
    }
   ],
   "source": [
    "df['credit_level'].value_counts()"
   ]
  },
  {
   "cell_type": "code",
   "execution_count": 2814,
   "metadata": {},
   "outputs": [],
   "source": [
    "# Years in current job : A categorical variable indicating how many years the customer has been in their current job.\n",
    "col = 'Years in current job'"
   ]
  },
  {
   "cell_type": "code",
   "execution_count": 2815,
   "metadata": {
    "scrolled": true
   },
   "outputs": [
    {
     "name": "stdout",
     "output_type": "stream",
     "text": [
      "shape:  (215700,)\n",
      "term missing:  8990\n",
      "term date type object\n",
      "term unique value:  11\n"
     ]
    }
   ],
   "source": [
    "print('shape: ', df[col].shape)\n",
    "print('term missing: ', df[col].isnull().sum())\n",
    "print('term date type', df[col].dtype)\n",
    "print('term unique value: ', df[col].nunique())"
   ]
  },
  {
   "cell_type": "code",
   "execution_count": 2816,
   "metadata": {},
   "outputs": [
    {
     "data": {
      "text/plain": [
       "array(['10+ years', '4 years', '6 years', '5 years', nan, '3 years',\n",
       "       '2 years', '< 1 year', '1 year', '7 years', '9 years', '8 years'],\n",
       "      dtype=object)"
      ]
     },
     "execution_count": 2816,
     "metadata": {},
     "output_type": "execute_result"
    }
   ],
   "source": [
    "df[col].unique()"
   ]
  },
  {
   "cell_type": "code",
   "execution_count": 2817,
   "metadata": {
    "scrolled": true
   },
   "outputs": [
    {
     "data": {
      "text/html": [
       "<div>\n",
       "<style scoped>\n",
       "    .dataframe tbody tr th:only-of-type {\n",
       "        vertical-align: middle;\n",
       "    }\n",
       "\n",
       "    .dataframe tbody tr th {\n",
       "        vertical-align: top;\n",
       "    }\n",
       "\n",
       "    .dataframe thead th {\n",
       "        text-align: right;\n",
       "    }\n",
       "</style>\n",
       "<table border=\"1\" class=\"dataframe\">\n",
       "  <thead>\n",
       "    <tr style=\"text-align: right;\">\n",
       "      <th></th>\n",
       "      <th>Loan ID</th>\n",
       "      <th>Customer ID</th>\n",
       "      <th>Loan Status</th>\n",
       "      <th>Current Loan Amount</th>\n",
       "      <th>Term</th>\n",
       "      <th>Credit Score</th>\n",
       "      <th>Years in current job</th>\n",
       "      <th>Home Ownership</th>\n",
       "      <th>Annual Income</th>\n",
       "      <th>Purpose</th>\n",
       "      <th>...</th>\n",
       "      <th>Years of Credit History</th>\n",
       "      <th>Months since last delinquent</th>\n",
       "      <th>Number of Open Accounts</th>\n",
       "      <th>Number of Credit Problems</th>\n",
       "      <th>Current Credit Balance</th>\n",
       "      <th>Maximum Open Credit</th>\n",
       "      <th>Bankruptcies</th>\n",
       "      <th>Tax Liens</th>\n",
       "      <th>loan_status</th>\n",
       "      <th>credit_level</th>\n",
       "    </tr>\n",
       "  </thead>\n",
       "  <tbody>\n",
       "    <tr>\n",
       "      <th>9</th>\n",
       "      <td>0001cb86-af28-4011-bb86-183786e473ae</td>\n",
       "      <td>4aae67bb-d54b-41ae-8bce-1d62022ed8dd</td>\n",
       "      <td>Fully Paid</td>\n",
       "      <td>2036</td>\n",
       "      <td>1</td>\n",
       "      <td>733.0</td>\n",
       "      <td>NaN</td>\n",
       "      <td>Home Mortgage</td>\n",
       "      <td>55985.0</td>\n",
       "      <td>Debt Consolidation</td>\n",
       "      <td>...</td>\n",
       "      <td>19.8</td>\n",
       "      <td>29.0</td>\n",
       "      <td>7</td>\n",
       "      <td>0</td>\n",
       "      <td>10926</td>\n",
       "      <td>15676</td>\n",
       "      <td>0.0</td>\n",
       "      <td>0.0</td>\n",
       "      <td>1</td>\n",
       "      <td>good</td>\n",
       "    </tr>\n",
       "    <tr>\n",
       "      <th>38</th>\n",
       "      <td>0008255a-402e-4716-9e0a-8bdf55309781</td>\n",
       "      <td>4e25b6bf-9abc-4bbd-841e-c5a8403b68de</td>\n",
       "      <td>Fully Paid</td>\n",
       "      <td>6114</td>\n",
       "      <td>1</td>\n",
       "      <td>NaN</td>\n",
       "      <td>NaN</td>\n",
       "      <td>Home Mortgage</td>\n",
       "      <td>NaN</td>\n",
       "      <td>Debt Consolidation</td>\n",
       "      <td>...</td>\n",
       "      <td>17.8</td>\n",
       "      <td>21.0</td>\n",
       "      <td>8</td>\n",
       "      <td>1</td>\n",
       "      <td>5772</td>\n",
       "      <td>13975</td>\n",
       "      <td>1.0</td>\n",
       "      <td>0.0</td>\n",
       "      <td>1</td>\n",
       "      <td>NaN</td>\n",
       "    </tr>\n",
       "  </tbody>\n",
       "</table>\n",
       "<p>2 rows × 21 columns</p>\n",
       "</div>"
      ],
      "text/plain": [
       "                                 Loan ID  \\\n",
       "9   0001cb86-af28-4011-bb86-183786e473ae   \n",
       "38  0008255a-402e-4716-9e0a-8bdf55309781   \n",
       "\n",
       "                             Customer ID Loan Status  Current Loan Amount  \\\n",
       "9   4aae67bb-d54b-41ae-8bce-1d62022ed8dd  Fully Paid                 2036   \n",
       "38  4e25b6bf-9abc-4bbd-841e-c5a8403b68de  Fully Paid                 6114   \n",
       "\n",
       "    Term  Credit Score Years in current job Home Ownership  Annual Income  \\\n",
       "9      1         733.0                  NaN  Home Mortgage        55985.0   \n",
       "38     1           NaN                  NaN  Home Mortgage            NaN   \n",
       "\n",
       "               Purpose      ...      Years of Credit History  \\\n",
       "9   Debt Consolidation      ...                         19.8   \n",
       "38  Debt Consolidation      ...                         17.8   \n",
       "\n",
       "    Months since last delinquent  Number of Open Accounts  \\\n",
       "9                           29.0                        7   \n",
       "38                          21.0                        8   \n",
       "\n",
       "    Number of Credit Problems  Current Credit Balance  Maximum Open Credit  \\\n",
       "9                           0                   10926                15676   \n",
       "38                          1                    5772                13975   \n",
       "\n",
       "   Bankruptcies  Tax Liens  loan_status  credit_level  \n",
       "9           0.0        0.0            1          good  \n",
       "38          1.0        0.0            1           NaN  \n",
       "\n",
       "[2 rows x 21 columns]"
      ]
     },
     "execution_count": 2817,
     "metadata": {},
     "output_type": "execute_result"
    }
   ],
   "source": [
    "z = df[df[col].isnull()]\n",
    "z.head(2)\n",
    "# no clue to fill NaN records"
   ]
  },
  {
   "cell_type": "code",
   "execution_count": 2818,
   "metadata": {
    "scrolled": true
   },
   "outputs": [
    {
     "data": {
      "text/plain": [
       "10+ years    48907\n",
       "2 years      15791\n",
       "< 1 year     14122\n",
       "3 years      13794\n",
       "5 years      11699\n",
       "1 year       11356\n",
       "4 years      10767\n",
       "6 years       9483\n",
       "7 years       8922\n",
       "8 years       7783\n",
       "9 years       6160\n",
       "Name: Years in current job, dtype: int64"
      ]
     },
     "execution_count": 2818,
     "metadata": {},
     "output_type": "execute_result"
    }
   ],
   "source": [
    "df[df.Term == 1][col].value_counts()"
   ]
  },
  {
   "cell_type": "code",
   "execution_count": 2819,
   "metadata": {
    "scrolled": true
   },
   "outputs": [
    {
     "data": {
      "text/plain": [
       "10+ years    17804\n",
       "2 years       4040\n",
       "3 years       3634\n",
       "< 1 year      3422\n",
       "5 years       3288\n",
       "4 years       2865\n",
       "7 years       2791\n",
       "1 year        2774\n",
       "6 years       2747\n",
       "8 years       2449\n",
       "9 years       2112\n",
       "Name: Years in current job, dtype: int64"
      ]
     },
     "execution_count": 2819,
     "metadata": {},
     "output_type": "execute_result"
    }
   ],
   "source": [
    "df[df.Term == 2][col].value_counts()"
   ]
  },
  {
   "cell_type": "code",
   "execution_count": 2820,
   "metadata": {
    "scrolled": true
   },
   "outputs": [
    {
     "name": "stdout",
     "output_type": "stream",
     "text": [
      "1251\n"
     ]
    }
   ],
   "source": [
    "print(df[col][df['Term'] == 2].isnull().sum())"
   ]
  },
  {
   "cell_type": "code",
   "execution_count": 2821,
   "metadata": {},
   "outputs": [
    {
     "name": "stderr",
     "output_type": "stream",
     "text": [
      "/anaconda3/lib/python3.6/site-packages/ipykernel_launcher.py:2: SettingWithCopyWarning: \n",
      "A value is trying to be set on a copy of a slice from a DataFrame\n",
      "\n",
      "See the caveats in the documentation: http://pandas.pydata.org/pandas-docs/stable/indexing.html#indexing-view-versus-copy\n",
      "  \n",
      "/anaconda3/lib/python3.6/site-packages/pandas/core/generic.py:7620: SettingWithCopyWarning: \n",
      "A value is trying to be set on a copy of a slice from a DataFrame\n",
      "\n",
      "See the caveats in the documentation: http://pandas.pydata.org/pandas-docs/stable/indexing.html#indexing-view-versus-copy\n",
      "  self._update_inplace(new_data)\n",
      "/anaconda3/lib/python3.6/site-packages/IPython/core/interactiveshell.py:2963: SettingWithCopyWarning: \n",
      "A value is trying to be set on a copy of a slice from a DataFrame\n",
      "\n",
      "See the caveats in the documentation: http://pandas.pydata.org/pandas-docs/stable/indexing.html#indexing-view-versus-copy\n",
      "  exec(code_obj, self.user_global_ns, self.user_ns)\n"
     ]
    }
   ],
   "source": [
    "# df[col][df['Term'] == 2] = df[col][df['Term'] == 2].apply(lambda x : x.fillna('10+ years'))\n",
    "df[col][df[col].isna()] = df[col].apply(lambda x : '10+ years')"
   ]
  },
  {
   "cell_type": "code",
   "execution_count": 2822,
   "metadata": {},
   "outputs": [
    {
     "data": {
      "text/plain": [
       "0"
      ]
     },
     "execution_count": 2822,
     "metadata": {},
     "output_type": "execute_result"
    }
   ],
   "source": [
    "df[col].isnull().sum()"
   ]
  },
  {
   "cell_type": "code",
   "execution_count": 2823,
   "metadata": {},
   "outputs": [],
   "source": [
    "# Home Ownership: Categorical variable indicating home ownership. Values are \"Rent\", \"Home Mortgage\", and \"Own\". \n",
    "# If the value is OWN, then the customer is a home owner with no mortgage\n",
    "col = 'Home Ownership'"
   ]
  },
  {
   "cell_type": "code",
   "execution_count": 2824,
   "metadata": {},
   "outputs": [
    {
     "name": "stdout",
     "output_type": "stream",
     "text": [
      "shape:  (215700,)\n",
      "term missing:  0\n",
      "term date type object\n",
      "term unique value:  4\n"
     ]
    }
   ],
   "source": [
    "print('shape: ', df[col].shape)\n",
    "print('term missing: ', df[col].isnull().sum())\n",
    "print('term date type', df[col].dtype)\n",
    "print('term unique value: ', df[col].nunique())"
   ]
  },
  {
   "cell_type": "code",
   "execution_count": 2825,
   "metadata": {},
   "outputs": [
    {
     "name": "stdout",
     "output_type": "stream",
     "text": [
      "['Home Mortgage' 'Own Home' 'Rent' 'HaveMortgage']\n"
     ]
    }
   ],
   "source": [
    "print(df[col].unique())"
   ]
  },
  {
   "cell_type": "code",
   "execution_count": 2826,
   "metadata": {},
   "outputs": [],
   "source": [
    "# Annual Income : The customer's annual income\n",
    "col = 'Annual Income'"
   ]
  },
  {
   "cell_type": "code",
   "execution_count": 2827,
   "metadata": {
    "scrolled": true
   },
   "outputs": [
    {
     "name": "stdout",
     "output_type": "stream",
     "text": [
      "shape:  (215700,)\n",
      "missing:  55008\n",
      "date type float64\n",
      "unique value:  58654\n"
     ]
    }
   ],
   "source": [
    "print('shape: ', df[col].shape)\n",
    "print('missing: ', df[col].isnull().sum())\n",
    "print('date type', df[col].dtype)\n",
    "print('unique value: ', df[col].nunique())"
   ]
  },
  {
   "cell_type": "code",
   "execution_count": 2828,
   "metadata": {},
   "outputs": [
    {
     "name": "stdout",
     "output_type": "stream",
     "text": [
      "min : 4033.0\n",
      "median :  62806.0\n",
      "max :  8713547.0\n"
     ]
    }
   ],
   "source": [
    "# plt.hist(df[col], bins = 200)\n",
    "print('min :', df[col].min())\n",
    "print('median : ', df[col].median()) \n",
    "print('max : ', df[col].max())"
   ]
  },
  {
   "cell_type": "code",
   "execution_count": 2829,
   "metadata": {
    "scrolled": true
   },
   "outputs": [
    {
     "data": {
      "text/plain": [
       "59346.0     26\n",
       "61044.0     25\n",
       "49585.0     24\n",
       "60684.0     24\n",
       "61188.0     24\n",
       "60072.0     24\n",
       "50255.0     23\n",
       "51235.0     23\n",
       "60828.0     23\n",
       "50170.0     22\n",
       "49075.0     22\n",
       "49985.0     22\n",
       "49630.0     22\n",
       "60150.0     22\n",
       "48955.0     22\n",
       "61134.0     22\n",
       "71071.0     21\n",
       "50505.0     21\n",
       "58872.0     21\n",
       "61140.0     21\n",
       "60348.0     21\n",
       "60318.0     21\n",
       "60522.0     21\n",
       "59964.0     21\n",
       "50720.0     21\n",
       "76245.0     21\n",
       "61038.0     20\n",
       "49995.0     20\n",
       "59604.0     20\n",
       "50745.0     20\n",
       "            ..\n",
       "80259.0      1\n",
       "56513.0      1\n",
       "33433.0      1\n",
       "26894.0      1\n",
       "35218.0      1\n",
       "92064.0      1\n",
       "101267.0     1\n",
       "30520.0      1\n",
       "46212.0      1\n",
       "36334.0      1\n",
       "124408.0     1\n",
       "187606.0     1\n",
       "160523.0     1\n",
       "25765.0      1\n",
       "20066.0      1\n",
       "53738.0      1\n",
       "226067.0     1\n",
       "113034.0     1\n",
       "68048.0      1\n",
       "95661.0      1\n",
       "218548.0     1\n",
       "80271.0      1\n",
       "54364.0      1\n",
       "61518.0      1\n",
       "119694.0     1\n",
       "50043.0      1\n",
       "80273.0      1\n",
       "141716.0     1\n",
       "56522.0      1\n",
       "15374.0      1\n",
       "Name: Annual Income, Length: 58654, dtype: int64"
      ]
     },
     "execution_count": 2829,
     "metadata": {},
     "output_type": "execute_result"
    }
   ],
   "source": [
    "df[col].value_counts()\n",
    "#df[col].sort_values()"
   ]
  },
  {
   "cell_type": "code",
   "execution_count": 2830,
   "metadata": {},
   "outputs": [],
   "source": [
    "# analysis: annual income nan reocrds is the nan records of credit socre, we can drop it first for init model"
   ]
  },
  {
   "cell_type": "code",
   "execution_count": 2831,
   "metadata": {},
   "outputs": [],
   "source": [
    "m = df[df['Credit Score'].isna() & df['Annual Income'].isna()]\n",
    "credit_score_missing = df[df['Credit Score'].isna()]\n",
    "Annual_Income_missing = df[df['Annual Income'].isna()]"
   ]
  },
  {
   "cell_type": "code",
   "execution_count": 2832,
   "metadata": {
    "scrolled": true
   },
   "outputs": [
    {
     "name": "stdout",
     "output_type": "stream",
     "text": [
      "(55008, 21)\n",
      "(55008, 21)\n",
      "(55008, 21)\n"
     ]
    },
    {
     "data": {
      "text/html": [
       "<div>\n",
       "<style scoped>\n",
       "    .dataframe tbody tr th:only-of-type {\n",
       "        vertical-align: middle;\n",
       "    }\n",
       "\n",
       "    .dataframe tbody tr th {\n",
       "        vertical-align: top;\n",
       "    }\n",
       "\n",
       "    .dataframe thead th {\n",
       "        text-align: right;\n",
       "    }\n",
       "</style>\n",
       "<table border=\"1\" class=\"dataframe\">\n",
       "  <thead>\n",
       "    <tr style=\"text-align: right;\">\n",
       "      <th></th>\n",
       "      <th>Loan ID</th>\n",
       "      <th>Customer ID</th>\n",
       "      <th>Loan Status</th>\n",
       "      <th>Current Loan Amount</th>\n",
       "      <th>Term</th>\n",
       "      <th>Credit Score</th>\n",
       "      <th>Years in current job</th>\n",
       "      <th>Home Ownership</th>\n",
       "      <th>Annual Income</th>\n",
       "      <th>Purpose</th>\n",
       "      <th>...</th>\n",
       "      <th>Years of Credit History</th>\n",
       "      <th>Months since last delinquent</th>\n",
       "      <th>Number of Open Accounts</th>\n",
       "      <th>Number of Credit Problems</th>\n",
       "      <th>Current Credit Balance</th>\n",
       "      <th>Maximum Open Credit</th>\n",
       "      <th>Bankruptcies</th>\n",
       "      <th>Tax Liens</th>\n",
       "      <th>loan_status</th>\n",
       "      <th>credit_level</th>\n",
       "    </tr>\n",
       "  </thead>\n",
       "  <tbody>\n",
       "    <tr>\n",
       "      <th>8</th>\n",
       "      <td>00011dfc-31c1-4178-932a-fbeb3f341efb</td>\n",
       "      <td>ef6e098c-6c83-4752-8d00-ff793e476b8c</td>\n",
       "      <td>Fully Paid</td>\n",
       "      <td>10036</td>\n",
       "      <td>1</td>\n",
       "      <td>NaN</td>\n",
       "      <td>5 years</td>\n",
       "      <td>Rent</td>\n",
       "      <td>NaN</td>\n",
       "      <td>Debt Consolidation</td>\n",
       "      <td>...</td>\n",
       "      <td>17.7</td>\n",
       "      <td>NaN</td>\n",
       "      <td>7</td>\n",
       "      <td>0</td>\n",
       "      <td>11970</td>\n",
       "      <td>16579</td>\n",
       "      <td>0.0</td>\n",
       "      <td>0.0</td>\n",
       "      <td>1</td>\n",
       "      <td>NaN</td>\n",
       "    </tr>\n",
       "    <tr>\n",
       "      <th>12</th>\n",
       "      <td>00029f9f-0cc5-4d4e-aabc-ea4a7fe74e12</td>\n",
       "      <td>afbc2fa3-3bad-4d48-b691-829aed78bad5</td>\n",
       "      <td>Charged Off</td>\n",
       "      <td>17980</td>\n",
       "      <td>1</td>\n",
       "      <td>NaN</td>\n",
       "      <td>&lt; 1 year</td>\n",
       "      <td>Own Home</td>\n",
       "      <td>NaN</td>\n",
       "      <td>Debt Consolidation</td>\n",
       "      <td>...</td>\n",
       "      <td>9.9</td>\n",
       "      <td>43.0</td>\n",
       "      <td>7</td>\n",
       "      <td>0</td>\n",
       "      <td>6817</td>\n",
       "      <td>22800</td>\n",
       "      <td>0.0</td>\n",
       "      <td>0.0</td>\n",
       "      <td>0</td>\n",
       "      <td>NaN</td>\n",
       "    </tr>\n",
       "    <tr>\n",
       "      <th>20</th>\n",
       "      <td>00038a08-f058-4add-a8ed-497b91672a9e</td>\n",
       "      <td>727bb429-dfa1-41c4-a347-23230e23949f</td>\n",
       "      <td>Charged Off</td>\n",
       "      <td>16929</td>\n",
       "      <td>2</td>\n",
       "      <td>NaN</td>\n",
       "      <td>3 years</td>\n",
       "      <td>Home Mortgage</td>\n",
       "      <td>NaN</td>\n",
       "      <td>Debt Consolidation</td>\n",
       "      <td>...</td>\n",
       "      <td>14.9</td>\n",
       "      <td>NaN</td>\n",
       "      <td>10</td>\n",
       "      <td>0</td>\n",
       "      <td>28513</td>\n",
       "      <td>101110</td>\n",
       "      <td>0.0</td>\n",
       "      <td>0.0</td>\n",
       "      <td>0</td>\n",
       "      <td>NaN</td>\n",
       "    </tr>\n",
       "    <tr>\n",
       "      <th>22</th>\n",
       "      <td>0003b749-307f-4830-9fb4-9db7ed1b1c48</td>\n",
       "      <td>998dc43c-f9ce-466e-bdaa-7057b0bbb9cd</td>\n",
       "      <td>Fully Paid</td>\n",
       "      <td>7228</td>\n",
       "      <td>1</td>\n",
       "      <td>NaN</td>\n",
       "      <td>3 years</td>\n",
       "      <td>Home Mortgage</td>\n",
       "      <td>NaN</td>\n",
       "      <td>Debt Consolidation</td>\n",
       "      <td>...</td>\n",
       "      <td>17.8</td>\n",
       "      <td>NaN</td>\n",
       "      <td>13</td>\n",
       "      <td>1</td>\n",
       "      <td>8488</td>\n",
       "      <td>15866</td>\n",
       "      <td>1.0</td>\n",
       "      <td>0.0</td>\n",
       "      <td>1</td>\n",
       "      <td>NaN</td>\n",
       "    </tr>\n",
       "    <tr>\n",
       "      <th>26</th>\n",
       "      <td>0004d002-a494-4f8a-a528-a6d513812701</td>\n",
       "      <td>4722d542-6684-431c-afb6-ba2e847f1098</td>\n",
       "      <td>Fully Paid</td>\n",
       "      <td>4612</td>\n",
       "      <td>1</td>\n",
       "      <td>NaN</td>\n",
       "      <td>10+ years</td>\n",
       "      <td>Rent</td>\n",
       "      <td>NaN</td>\n",
       "      <td>Debt Consolidation</td>\n",
       "      <td>...</td>\n",
       "      <td>14.0</td>\n",
       "      <td>NaN</td>\n",
       "      <td>4</td>\n",
       "      <td>0</td>\n",
       "      <td>8919</td>\n",
       "      <td>9330</td>\n",
       "      <td>0.0</td>\n",
       "      <td>0.0</td>\n",
       "      <td>1</td>\n",
       "      <td>NaN</td>\n",
       "    </tr>\n",
       "  </tbody>\n",
       "</table>\n",
       "<p>5 rows × 21 columns</p>\n",
       "</div>"
      ],
      "text/plain": [
       "                                 Loan ID  \\\n",
       "8   00011dfc-31c1-4178-932a-fbeb3f341efb   \n",
       "12  00029f9f-0cc5-4d4e-aabc-ea4a7fe74e12   \n",
       "20  00038a08-f058-4add-a8ed-497b91672a9e   \n",
       "22  0003b749-307f-4830-9fb4-9db7ed1b1c48   \n",
       "26  0004d002-a494-4f8a-a528-a6d513812701   \n",
       "\n",
       "                             Customer ID  Loan Status  Current Loan Amount  \\\n",
       "8   ef6e098c-6c83-4752-8d00-ff793e476b8c   Fully Paid                10036   \n",
       "12  afbc2fa3-3bad-4d48-b691-829aed78bad5  Charged Off                17980   \n",
       "20  727bb429-dfa1-41c4-a347-23230e23949f  Charged Off                16929   \n",
       "22  998dc43c-f9ce-466e-bdaa-7057b0bbb9cd   Fully Paid                 7228   \n",
       "26  4722d542-6684-431c-afb6-ba2e847f1098   Fully Paid                 4612   \n",
       "\n",
       "    Term  Credit Score Years in current job Home Ownership  Annual Income  \\\n",
       "8      1           NaN              5 years           Rent            NaN   \n",
       "12     1           NaN             < 1 year       Own Home            NaN   \n",
       "20     2           NaN              3 years  Home Mortgage            NaN   \n",
       "22     1           NaN              3 years  Home Mortgage            NaN   \n",
       "26     1           NaN            10+ years           Rent            NaN   \n",
       "\n",
       "               Purpose      ...      Years of Credit History  \\\n",
       "8   Debt Consolidation      ...                         17.7   \n",
       "12  Debt Consolidation      ...                          9.9   \n",
       "20  Debt Consolidation      ...                         14.9   \n",
       "22  Debt Consolidation      ...                         17.8   \n",
       "26  Debt Consolidation      ...                         14.0   \n",
       "\n",
       "    Months since last delinquent  Number of Open Accounts  \\\n",
       "8                            NaN                        7   \n",
       "12                          43.0                        7   \n",
       "20                           NaN                       10   \n",
       "22                           NaN                       13   \n",
       "26                           NaN                        4   \n",
       "\n",
       "    Number of Credit Problems  Current Credit Balance  Maximum Open Credit  \\\n",
       "8                           0                   11970                16579   \n",
       "12                          0                    6817                22800   \n",
       "20                          0                   28513               101110   \n",
       "22                          1                    8488                15866   \n",
       "26                          0                    8919                 9330   \n",
       "\n",
       "   Bankruptcies  Tax Liens  loan_status  credit_level  \n",
       "8           0.0        0.0            1           NaN  \n",
       "12          0.0        0.0            0           NaN  \n",
       "20          0.0        0.0            0           NaN  \n",
       "22          1.0        0.0            1           NaN  \n",
       "26          0.0        0.0            1           NaN  \n",
       "\n",
       "[5 rows x 21 columns]"
      ]
     },
     "execution_count": 2832,
     "metadata": {},
     "output_type": "execute_result"
    }
   ],
   "source": [
    "print(m.shape)\n",
    "print(credit_score_missing.shape)\n",
    "print(Annual_Income_missing.shape)\n",
    "m.head()"
   ]
  },
  {
   "cell_type": "code",
   "execution_count": 2833,
   "metadata": {},
   "outputs": [],
   "source": [
    "df = df.dropna(subset=[col])"
   ]
  },
  {
   "cell_type": "code",
   "execution_count": 2834,
   "metadata": {},
   "outputs": [
    {
     "name": "stdout",
     "output_type": "stream",
     "text": [
      "0\n",
      "0\n"
     ]
    }
   ],
   "source": [
    "print(df[col].isnull().sum())\n",
    "print(df['Credit Score'].isnull().sum())"
   ]
  },
  {
   "cell_type": "code",
   "execution_count": 2835,
   "metadata": {},
   "outputs": [
    {
     "name": "stdout",
     "output_type": "stream",
     "text": [
      "min : 4033.0\n",
      "median :  62806.0\n",
      "max :  8713547.0\n"
     ]
    }
   ],
   "source": [
    "print('min :', df[col].min())\n",
    "print('median : ', df[col].median()) \n",
    "print('max : ', df[col].max())"
   ]
  },
  {
   "cell_type": "code",
   "execution_count": 2836,
   "metadata": {},
   "outputs": [
    {
     "data": {
      "image/png": "[encoded data removed]",
      "text/plain": [
       "<Figure size 432x288 with 1 Axes>"
      ]
     },
     "metadata": {},
     "output_type": "display_data"
    }
   ],
   "source": [
    "plt.hist(df[col], bins = 200);"
   ]
  },
  {
   "cell_type": "code",
   "execution_count": 2837,
   "metadata": {},
   "outputs": [
    {
     "data": {
      "text/plain": [
       "<matplotlib.axes._subplots.AxesSubplot at 0x1ecc215c0>"
      ]
     },
     "execution_count": 2837,
     "metadata": {},
     "output_type": "execute_result"
    },
    {
     "data": {
      "image/png": "[encoded data removed]",
      "text/plain": [
       "<Figure size 432x288 with 1 Axes>"
      ]
     },
     "metadata": {},
     "output_type": "display_data"
    }
   ],
   "source": [
    "df.boxplot(column = col)"
   ]
  },
  {
   "cell_type": "code",
   "execution_count": 2838,
   "metadata": {
    "scrolled": false
   },
   "outputs": [
    {
     "name": "stdout",
     "output_type": "stream",
     "text": [
      "<class 'pandas.core.series.Series'>\n"
     ]
    },
    {
     "data": {
      "text/plain": [
       "Current Loan Amount             99999999\n",
       "Term                                   2\n",
       "Credit Score                         751\n",
       "Annual Income                     244276\n",
       "Years of Credit History               40\n",
       "Months since last delinquent          81\n",
       "Number of Open Accounts               26\n",
       "Number of Credit Problems              2\n",
       "Current Credit Balance             81579\n",
       "Bankruptcies                           1\n",
       "Tax Liens                              1\n",
       "loan_status                            1\n",
       "Name: 0.99, dtype: int64"
      ]
     },
     "execution_count": 2838,
     "metadata": {},
     "output_type": "execute_result"
    }
   ],
   "source": [
    "z = df.quantile(0.99).astype('int')\n",
    "print(type(z))\n",
    "z\n",
    "# by check df.quantile(0.99), we may get records with annual income less than 244276.89"
   ]
  },
  {
   "cell_type": "code",
   "execution_count": 2839,
   "metadata": {},
   "outputs": [
    {
     "data": {
      "text/plain": [
       "(160692, 21)"
      ]
     },
     "execution_count": 2839,
     "metadata": {},
     "output_type": "execute_result"
    }
   ],
   "source": [
    "df.shape"
   ]
  },
  {
   "cell_type": "code",
   "execution_count": 2840,
   "metadata": {},
   "outputs": [
    {
     "data": {
      "image/png": "[encoded data removed]",
      "text/plain": [
       "<Figure size 432x288 with 1 Axes>"
      ]
     },
     "metadata": {},
     "output_type": "display_data"
    }
   ],
   "source": [
    "plt.hist(df[col][df[col] < 99999999], bins = 200);"
   ]
  },
  {
   "cell_type": "code",
   "execution_count": 2841,
   "metadata": {},
   "outputs": [],
   "source": [
    "df = df[df[col] < 250000]"
   ]
  },
  {
   "cell_type": "code",
   "execution_count": 2842,
   "metadata": {},
   "outputs": [
    {
     "data": {
      "text/plain": [
       "(159299, 21)"
      ]
     },
     "execution_count": 2842,
     "metadata": {},
     "output_type": "execute_result"
    }
   ],
   "source": [
    "df.shape"
   ]
  },
  {
   "cell_type": "code",
   "execution_count": 2843,
   "metadata": {},
   "outputs": [],
   "source": [
    "# Purpose : A description of the purpose of the loan\n",
    "col = 'Purpose'"
   ]
  },
  {
   "cell_type": "code",
   "execution_count": 2844,
   "metadata": {
    "scrolled": true
   },
   "outputs": [
    {
     "name": "stdout",
     "output_type": "stream",
     "text": [
      "shape:  (159299,)\n",
      "missing:  0\n",
      "date type object\n",
      "unique value:  10\n"
     ]
    }
   ],
   "source": [
    "print('shape: ', df[col].shape)\n",
    "print('missing: ', df[col].isnull().sum())\n",
    "print('date type', df[col].dtype)\n",
    "print('unique value: ', df[col].nunique())"
   ]
  },
  {
   "cell_type": "code",
   "execution_count": 2845,
   "metadata": {
    "scrolled": true
   },
   "outputs": [
    {
     "name": "stdout",
     "output_type": "stream",
     "text": [
      "['Debt Consolidation' 'other' 'Business Loan' 'Home Improvements'\n",
      " 'Buy House' 'Other' 'Medical Bills' 'Buy a Car' 'Take a Trip'\n",
      " 'Educational Expenses']\n"
     ]
    }
   ],
   "source": [
    "print(df[col].unique())"
   ]
  },
  {
   "cell_type": "code",
   "execution_count": 2846,
   "metadata": {
    "scrolled": false
   },
   "outputs": [
    {
     "data": {
      "text/plain": [
       "Debt Consolidation      126471\n",
       "Home Improvements         9406\n",
       "other                     8669\n",
       "Other                     6147\n",
       "Business Loan             2604\n",
       "Buy a Car                 2204\n",
       "Medical Bills             1725\n",
       "Take a Trip                977\n",
       "Buy House                  946\n",
       "Educational Expenses       150\n",
       "Name: Purpose, dtype: int64"
      ]
     },
     "execution_count": 2846,
     "metadata": {},
     "output_type": "execute_result"
    }
   ],
   "source": [
    "df[col].value_counts()"
   ]
  },
  {
   "cell_type": "code",
   "execution_count": 2847,
   "metadata": {
    "scrolled": false
   },
   "outputs": [],
   "source": [
    "df[col][df[col] == 'other'] = df[col].apply(lambda x : 'Other') # replace other with Other "
   ]
  },
  {
   "cell_type": "code",
   "execution_count": 2848,
   "metadata": {
    "scrolled": false
   },
   "outputs": [
    {
     "data": {
      "text/plain": [
       "Debt Consolidation      126471\n",
       "Other                    14816\n",
       "Home Improvements         9406\n",
       "Business Loan             2604\n",
       "Buy a Car                 2204\n",
       "Medical Bills             1725\n",
       "Take a Trip                977\n",
       "Buy House                  946\n",
       "Educational Expenses       150\n",
       "Name: Purpose, dtype: int64"
      ]
     },
     "execution_count": 2848,
     "metadata": {},
     "output_type": "execute_result"
    }
   ],
   "source": [
    "df[col].value_counts()  # not very clear about buy house and debt consolidation"
   ]
  },
  {
   "cell_type": "code",
   "execution_count": 2849,
   "metadata": {},
   "outputs": [],
   "source": [
    "map1 = {'Debt Consolidation': 'debt_consolid', 'Other': 'Others', 'Home Improvements': 'home_improv', \n",
    "        'Business Loan': 'business_loan', 'Buy a Car':'car_purchasing', 'Medical Bills':'medical_bill', \n",
    "        'Take a Trip':'travel_house_edu', 'Buy House': 'travel_house_edu', 'Educational Expenses': 'travel_house_edu'}"
   ]
  },
  {
   "cell_type": "code",
   "execution_count": 2850,
   "metadata": {},
   "outputs": [],
   "source": [
    "df['purpose_type'] = df[col].map(map1)"
   ]
  },
  {
   "cell_type": "code",
   "execution_count": 2851,
   "metadata": {
    "scrolled": true
   },
   "outputs": [
    {
     "data": {
      "text/plain": [
       "debt_consolid       126471\n",
       "Others               14816\n",
       "home_improv           9406\n",
       "business_loan         2604\n",
       "car_purchasing        2204\n",
       "travel_house_edu      2073\n",
       "medical_bill          1725\n",
       "Name: purpose_type, dtype: int64"
      ]
     },
     "execution_count": 2851,
     "metadata": {},
     "output_type": "execute_result"
    }
   ],
   "source": [
    "df['purpose_type'].value_counts()"
   ]
  },
  {
   "cell_type": "code",
   "execution_count": 2852,
   "metadata": {},
   "outputs": [],
   "source": [
    "# Monthly Debt : The customer's monthly payment for their existing loans\n",
    "col = 'Monthly Debt'"
   ]
  },
  {
   "cell_type": "code",
   "execution_count": 2853,
   "metadata": {},
   "outputs": [
    {
     "name": "stdout",
     "output_type": "stream",
     "text": [
      "shape:  (159299,)\n",
      "missing:  0\n",
      "date type object\n",
      "unique value:  106366\n"
     ]
    }
   ],
   "source": [
    "print('shape: ', df[col].shape)\n",
    "print('missing: ', df[col].isnull().sum())\n",
    "print('date type', df[col].dtype)\n",
    "print('unique value: ', df[col].nunique())"
   ]
  },
  {
   "cell_type": "code",
   "execution_count": 2854,
   "metadata": {
    "scrolled": false
   },
   "outputs": [
    {
     "name": "stdout",
     "output_type": "stream",
     "text": [
      "['$584.03' '$1,106.04 ' '$1,321.85 ' ... '$1,412.33 ' '$47.11'\n",
      " '$2,525.82 ']\n"
     ]
    }
   ],
   "source": [
    "print(df[col].unique())"
   ]
  },
  {
   "cell_type": "code",
   "execution_count": 2855,
   "metadata": {
    "scrolled": true
   },
   "outputs": [
    {
     "data": {
      "text/plain": [
       "33410     759.29\n",
       "175435    512.13\n",
       "80346     788.91\n",
       "168631    540.39\n",
       "Name: Monthly Debt, dtype: object"
      ]
     },
     "execution_count": 2855,
     "metadata": {},
     "output_type": "execute_result"
    }
   ],
   "source": [
    "df[col] = df[col].apply(lambda x: x.strip('$')).apply(lambda x : x.strip()).apply(lambda x : x.replace(',', ''))\n",
    "df[col].sample(4)"
   ]
  },
  {
   "cell_type": "code",
   "execution_count": 2856,
   "metadata": {},
   "outputs": [
    {
     "name": "stdout",
     "output_type": "stream",
     "text": [
      "float64\n"
     ]
    }
   ],
   "source": [
    "df[col] = df[col].astype(float)\n",
    "df[col]\n",
    "print(df[col].dtype)"
   ]
  },
  {
   "cell_type": "code",
   "execution_count": 2857,
   "metadata": {},
   "outputs": [
    {
     "data": {
      "image/png": "[encoded data removed]",
      "text/plain": [
       "<Figure size 432x288 with 1 Axes>"
      ]
     },
     "metadata": {},
     "output_type": "display_data"
    }
   ],
   "source": [
    "df[col].value_counts()\n",
    "plt.hist(df[col], bins = 200);"
   ]
  },
  {
   "cell_type": "code",
   "execution_count": 2858,
   "metadata": {},
   "outputs": [],
   "source": [
    "# Years of Credit History : The years since the first entry in the customer’s credit history \n",
    "col = 'Years of Credit History'"
   ]
  },
  {
   "cell_type": "code",
   "execution_count": 2859,
   "metadata": {},
   "outputs": [
    {
     "name": "stdout",
     "output_type": "stream",
     "text": [
      "shape:  (159299,)\n",
      "missing:  0\n",
      "date type float64\n",
      "unique value:  529\n"
     ]
    }
   ],
   "source": [
    "print('shape: ', df[col].shape)\n",
    "print('missing: ', df[col].isnull().sum())\n",
    "print('date type', df[col].dtype)\n",
    "print('unique value: ', df[col].nunique())"
   ]
  },
  {
   "cell_type": "code",
   "execution_count": 2860,
   "metadata": {
    "scrolled": true
   },
   "outputs": [
    {
     "data": {
      "image/png": "[encoded data removed]",
      "text/plain": [
       "<Figure size 432x288 with 1 Axes>"
      ]
     },
     "metadata": {},
     "output_type": "display_data"
    }
   ],
   "source": [
    "plt.hist(df[col], bins = 200);"
   ]
  },
  {
   "cell_type": "code",
   "execution_count": 2861,
   "metadata": {},
   "outputs": [],
   "source": [
    "# Months since last delinquent: Months since the last loan delinquent payment\n",
    "col = 'Months since last delinquent'"
   ]
  },
  {
   "cell_type": "code",
   "execution_count": 2862,
   "metadata": {},
   "outputs": [
    {
     "name": "stdout",
     "output_type": "stream",
     "text": [
      "shape:  (159299,)\n",
      "missing:  87560\n",
      "date type float64\n",
      "unique value:  125\n"
     ]
    }
   ],
   "source": [
    "print('shape: ', df[col].shape)\n",
    "print('missing: ', df[col].isnull().sum())\n",
    "print('date type', df[col].dtype)\n",
    "print('unique value: ', df[col].nunique())"
   ]
  },
  {
   "cell_type": "code",
   "execution_count": 2863,
   "metadata": {},
   "outputs": [
    {
     "data": {
      "text/html": [
       "<div>\n",
       "<style scoped>\n",
       "    .dataframe tbody tr th:only-of-type {\n",
       "        vertical-align: middle;\n",
       "    }\n",
       "\n",
       "    .dataframe tbody tr th {\n",
       "        vertical-align: top;\n",
       "    }\n",
       "\n",
       "    .dataframe thead th {\n",
       "        text-align: right;\n",
       "    }\n",
       "</style>\n",
       "<table border=\"1\" class=\"dataframe\">\n",
       "  <thead>\n",
       "    <tr style=\"text-align: right;\">\n",
       "      <th></th>\n",
       "      <th>Months since last delinquent</th>\n",
       "      <th>Loan Status</th>\n",
       "      <th>Term</th>\n",
       "      <th>Home Ownership</th>\n",
       "      <th>Purpose</th>\n",
       "    </tr>\n",
       "  </thead>\n",
       "  <tbody>\n",
       "    <tr>\n",
       "      <th>120523</th>\n",
       "      <td>NaN</td>\n",
       "      <td>Fully Paid</td>\n",
       "      <td>1</td>\n",
       "      <td>Own Home</td>\n",
       "      <td>Debt Consolidation</td>\n",
       "    </tr>\n",
       "    <tr>\n",
       "      <th>226578</th>\n",
       "      <td>NaN</td>\n",
       "      <td>Charged Off</td>\n",
       "      <td>2</td>\n",
       "      <td>Rent</td>\n",
       "      <td>Debt Consolidation</td>\n",
       "    </tr>\n",
       "  </tbody>\n",
       "</table>\n",
       "</div>"
      ],
      "text/plain": [
       "        Months since last delinquent  Loan Status  Term Home Ownership  \\\n",
       "120523                           NaN   Fully Paid     1       Own Home   \n",
       "226578                           NaN  Charged Off     2           Rent   \n",
       "\n",
       "                   Purpose  \n",
       "120523  Debt Consolidation  \n",
       "226578  Debt Consolidation  "
      ]
     },
     "execution_count": 2863,
     "metadata": {},
     "output_type": "execute_result"
    }
   ],
   "source": [
    "dd = df[[col,'Loan Status', 'Term', 'Home Ownership', 'Purpose']]\n",
    "dd[dd[col].isnull()].sample(2)"
   ]
  },
  {
   "cell_type": "code",
   "execution_count": 2864,
   "metadata": {
    "scrolled": true
   },
   "outputs": [
    {
     "data": {
      "text/plain": [
       "Loan Status  Term  Home Ownership  Purpose        Months since last delinquent\n",
       "Charged Off  1     HaveMortgage    Take a Trip    5.0                             2\n",
       "                                                  11.0                            2\n",
       "                                                  17.0                            2\n",
       "                                                  3.0                             1\n",
       "                                                  8.0                             1\n",
       "                                                  19.0                            1\n",
       "                                                  22.0                            1\n",
       "                                                  27.0                            1\n",
       "                                                  28.0                            1\n",
       "                                                  29.0                            1\n",
       "                                                  34.0                            1\n",
       "                                                  42.0                            1\n",
       "                                                  45.0                            1\n",
       "                                                  46.0                            1\n",
       "                                                  47.0                            1\n",
       "                                                  61.0                            1\n",
       "                                                  73.0                            1\n",
       "                                                  75.0                            1\n",
       "                   Home Mortgage   Business Loan  6.0                             4\n",
       "                                                  12.0                            4\n",
       "                                                  14.0                            4\n",
       "                                                  17.0                            4\n",
       "                                                  0.0                             3\n",
       "                                                  3.0                             3\n",
       "                                                  5.0                             3\n",
       "                                                  9.0                             3\n",
       "                                                  10.0                            3\n",
       "                                                  21.0                            3\n",
       "                                                  23.0                            3\n",
       "                                                  25.0                            3\n",
       "                                                                                 ..\n",
       "Fully Paid   2     Rent            Other          80.0                            3\n",
       "                                                  2.0                             2\n",
       "                                                  13.0                            2\n",
       "                                                  31.0                            2\n",
       "                                                  42.0                            2\n",
       "                                                  50.0                            2\n",
       "                                                  51.0                            2\n",
       "                                                  58.0                            2\n",
       "                                                  63.0                            2\n",
       "                                                  75.0                            2\n",
       "                                                  77.0                            2\n",
       "                                                  81.0                            2\n",
       "                                                  1.0                             1\n",
       "                                                  61.0                            1\n",
       "                                                  68.0                            1\n",
       "                                                  69.0                            1\n",
       "                                                  70.0                            1\n",
       "                                                  72.0                            1\n",
       "                                                  79.0                            1\n",
       "                                                  82.0                            1\n",
       "                                                  83.0                            1\n",
       "                                   Take a Trip    22.0                            2\n",
       "                                                  32.0                            1\n",
       "                                                  33.0                            1\n",
       "                                                  34.0                            1\n",
       "                                                  45.0                            1\n",
       "                                                  57.0                            1\n",
       "                                                  58.0                            1\n",
       "                                                  60.0                            1\n",
       "                                                  68.0                            1\n",
       "Name: Months since last delinquent, Length: 4416, dtype: int64"
      ]
     },
     "execution_count": 2864,
     "metadata": {},
     "output_type": "execute_result"
    }
   ],
   "source": [
    "d = df.groupby(['Loan Status', 'Term', 'Home Ownership', 'Purpose'])[col]\n",
    "d.value_counts()"
   ]
  },
  {
   "cell_type": "code",
   "execution_count": 2865,
   "metadata": {},
   "outputs": [],
   "source": [
    "df[col] = d.apply(lambda x : x.fillna(x.median()))"
   ]
  },
  {
   "cell_type": "code",
   "execution_count": 2866,
   "metadata": {
    "scrolled": true
   },
   "outputs": [
    {
     "data": {
      "text/html": [
       "<div>\n",
       "<style scoped>\n",
       "    .dataframe tbody tr th:only-of-type {\n",
       "        vertical-align: middle;\n",
       "    }\n",
       "\n",
       "    .dataframe tbody tr th {\n",
       "        vertical-align: top;\n",
       "    }\n",
       "\n",
       "    .dataframe thead th {\n",
       "        text-align: right;\n",
       "    }\n",
       "</style>\n",
       "<table border=\"1\" class=\"dataframe\">\n",
       "  <thead>\n",
       "    <tr style=\"text-align: right;\">\n",
       "      <th></th>\n",
       "      <th>Loan ID</th>\n",
       "      <th>Customer ID</th>\n",
       "      <th>Loan Status</th>\n",
       "      <th>Current Loan Amount</th>\n",
       "      <th>Term</th>\n",
       "      <th>Credit Score</th>\n",
       "      <th>Years in current job</th>\n",
       "      <th>Home Ownership</th>\n",
       "      <th>Annual Income</th>\n",
       "      <th>Purpose</th>\n",
       "      <th>...</th>\n",
       "      <th>Months since last delinquent</th>\n",
       "      <th>Number of Open Accounts</th>\n",
       "      <th>Number of Credit Problems</th>\n",
       "      <th>Current Credit Balance</th>\n",
       "      <th>Maximum Open Credit</th>\n",
       "      <th>Bankruptcies</th>\n",
       "      <th>Tax Liens</th>\n",
       "      <th>loan_status</th>\n",
       "      <th>credit_level</th>\n",
       "      <th>purpose_type</th>\n",
       "    </tr>\n",
       "  </thead>\n",
       "  <tbody>\n",
       "    <tr>\n",
       "      <th>23630</th>\n",
       "      <td>17a177ea-c544-49d9-a4e2-5d232ce2b4ee</td>\n",
       "      <td>2bb8fc86-7a9e-4a2e-90b9-6cb554d36b8e</td>\n",
       "      <td>Fully Paid</td>\n",
       "      <td>99999999</td>\n",
       "      <td>2</td>\n",
       "      <td>745.0</td>\n",
       "      <td>10+ years</td>\n",
       "      <td>Own Home</td>\n",
       "      <td>42366.0</td>\n",
       "      <td>Take a Trip</td>\n",
       "      <td>...</td>\n",
       "      <td>NaN</td>\n",
       "      <td>6</td>\n",
       "      <td>0</td>\n",
       "      <td>410</td>\n",
       "      <td>18633</td>\n",
       "      <td>0.0</td>\n",
       "      <td>0.0</td>\n",
       "      <td>1</td>\n",
       "      <td>very_good</td>\n",
       "      <td>travel_house_edu</td>\n",
       "    </tr>\n",
       "    <tr>\n",
       "      <th>24412</th>\n",
       "      <td>186f0969-7af7-4860-9b78-15e10970a582</td>\n",
       "      <td>5e51fd4e-0ffa-4dc0-9e26-00ca76d671e3</td>\n",
       "      <td>Charged Off</td>\n",
       "      <td>8214</td>\n",
       "      <td>2</td>\n",
       "      <td>727.0</td>\n",
       "      <td>5 years</td>\n",
       "      <td>Rent</td>\n",
       "      <td>70402.0</td>\n",
       "      <td>Educational Expenses</td>\n",
       "      <td>...</td>\n",
       "      <td>NaN</td>\n",
       "      <td>11</td>\n",
       "      <td>0</td>\n",
       "      <td>12373</td>\n",
       "      <td>17803</td>\n",
       "      <td>0.0</td>\n",
       "      <td>0.0</td>\n",
       "      <td>0</td>\n",
       "      <td>good</td>\n",
       "      <td>travel_house_edu</td>\n",
       "    </tr>\n",
       "    <tr>\n",
       "      <th>69116</th>\n",
       "      <td>44b454d6-7e8b-421e-a590-a06a049212a0</td>\n",
       "      <td>ab3441e7-53f3-4299-a3c8-6dcfc8d8db15</td>\n",
       "      <td>Fully Paid</td>\n",
       "      <td>14889</td>\n",
       "      <td>2</td>\n",
       "      <td>713.0</td>\n",
       "      <td>10+ years</td>\n",
       "      <td>Own Home</td>\n",
       "      <td>127053.0</td>\n",
       "      <td>Take a Trip</td>\n",
       "      <td>...</td>\n",
       "      <td>NaN</td>\n",
       "      <td>17</td>\n",
       "      <td>0</td>\n",
       "      <td>21831</td>\n",
       "      <td>110819</td>\n",
       "      <td>0.0</td>\n",
       "      <td>0.0</td>\n",
       "      <td>1</td>\n",
       "      <td>good</td>\n",
       "      <td>travel_house_edu</td>\n",
       "    </tr>\n",
       "    <tr>\n",
       "      <th>106151</th>\n",
       "      <td>698513eb-4c32-440c-93e7-ed47ed99fd8f</td>\n",
       "      <td>286150d2-f3c5-4258-ba6f-cbfb719e3f6e</td>\n",
       "      <td>Charged Off</td>\n",
       "      <td>1023</td>\n",
       "      <td>2</td>\n",
       "      <td>698.0</td>\n",
       "      <td>7 years</td>\n",
       "      <td>Rent</td>\n",
       "      <td>6137.0</td>\n",
       "      <td>Educational Expenses</td>\n",
       "      <td>...</td>\n",
       "      <td>NaN</td>\n",
       "      <td>7</td>\n",
       "      <td>0</td>\n",
       "      <td>3483</td>\n",
       "      <td>9811</td>\n",
       "      <td>0.0</td>\n",
       "      <td>0.0</td>\n",
       "      <td>0</td>\n",
       "      <td>good</td>\n",
       "      <td>travel_house_edu</td>\n",
       "    </tr>\n",
       "    <tr>\n",
       "      <th>124408</th>\n",
       "      <td>7baf309f-176b-4cc8-9074-a6ddb9243b55</td>\n",
       "      <td>6a62eab6-9b59-41cb-b38d-60c5bdb2e617</td>\n",
       "      <td>Fully Paid</td>\n",
       "      <td>20570</td>\n",
       "      <td>2</td>\n",
       "      <td>721.0</td>\n",
       "      <td>10+ years</td>\n",
       "      <td>Own Home</td>\n",
       "      <td>62688.0</td>\n",
       "      <td>Take a Trip</td>\n",
       "      <td>...</td>\n",
       "      <td>NaN</td>\n",
       "      <td>10</td>\n",
       "      <td>1</td>\n",
       "      <td>15478</td>\n",
       "      <td>16643</td>\n",
       "      <td>1.0</td>\n",
       "      <td>0.0</td>\n",
       "      <td>1</td>\n",
       "      <td>good</td>\n",
       "      <td>travel_house_edu</td>\n",
       "    </tr>\n",
       "    <tr>\n",
       "      <th>202282</th>\n",
       "      <td>c9410b10-d9f7-436e-9426-7bbf7bf68b18</td>\n",
       "      <td>1a4fc510-7d47-44a1-8b36-65f1164e3ab9</td>\n",
       "      <td>Charged Off</td>\n",
       "      <td>6065</td>\n",
       "      <td>2</td>\n",
       "      <td>743.0</td>\n",
       "      <td>10+ years</td>\n",
       "      <td>Own Home</td>\n",
       "      <td>40432.0</td>\n",
       "      <td>Educational Expenses</td>\n",
       "      <td>...</td>\n",
       "      <td>NaN</td>\n",
       "      <td>5</td>\n",
       "      <td>0</td>\n",
       "      <td>1628</td>\n",
       "      <td>30155</td>\n",
       "      <td>0.0</td>\n",
       "      <td>0.0</td>\n",
       "      <td>0</td>\n",
       "      <td>very_good</td>\n",
       "      <td>travel_house_edu</td>\n",
       "    </tr>\n",
       "    <tr>\n",
       "      <th>242914</th>\n",
       "      <td>f1dde5c1-7e78-4a35-94da-1368f0cfc468</td>\n",
       "      <td>a5983e6b-751e-4cc8-8cf2-843b4fd93cf2</td>\n",
       "      <td>Charged Off</td>\n",
       "      <td>8266</td>\n",
       "      <td>2</td>\n",
       "      <td>734.0</td>\n",
       "      <td>2 years</td>\n",
       "      <td>Rent</td>\n",
       "      <td>44285.0</td>\n",
       "      <td>Educational Expenses</td>\n",
       "      <td>...</td>\n",
       "      <td>NaN</td>\n",
       "      <td>9</td>\n",
       "      <td>0</td>\n",
       "      <td>3138</td>\n",
       "      <td>4329</td>\n",
       "      <td>0.0</td>\n",
       "      <td>0.0</td>\n",
       "      <td>0</td>\n",
       "      <td>good</td>\n",
       "      <td>travel_house_edu</td>\n",
       "    </tr>\n",
       "  </tbody>\n",
       "</table>\n",
       "<p>7 rows × 22 columns</p>\n",
       "</div>"
      ],
      "text/plain": [
       "                                     Loan ID  \\\n",
       "23630   17a177ea-c544-49d9-a4e2-5d232ce2b4ee   \n",
       "24412   186f0969-7af7-4860-9b78-15e10970a582   \n",
       "69116   44b454d6-7e8b-421e-a590-a06a049212a0   \n",
       "106151  698513eb-4c32-440c-93e7-ed47ed99fd8f   \n",
       "124408  7baf309f-176b-4cc8-9074-a6ddb9243b55   \n",
       "202282  c9410b10-d9f7-436e-9426-7bbf7bf68b18   \n",
       "242914  f1dde5c1-7e78-4a35-94da-1368f0cfc468   \n",
       "\n",
       "                                 Customer ID  Loan Status  \\\n",
       "23630   2bb8fc86-7a9e-4a2e-90b9-6cb554d36b8e   Fully Paid   \n",
       "24412   5e51fd4e-0ffa-4dc0-9e26-00ca76d671e3  Charged Off   \n",
       "69116   ab3441e7-53f3-4299-a3c8-6dcfc8d8db15   Fully Paid   \n",
       "106151  286150d2-f3c5-4258-ba6f-cbfb719e3f6e  Charged Off   \n",
       "124408  6a62eab6-9b59-41cb-b38d-60c5bdb2e617   Fully Paid   \n",
       "202282  1a4fc510-7d47-44a1-8b36-65f1164e3ab9  Charged Off   \n",
       "242914  a5983e6b-751e-4cc8-8cf2-843b4fd93cf2  Charged Off   \n",
       "\n",
       "        Current Loan Amount  Term  Credit Score Years in current job  \\\n",
       "23630              99999999     2         745.0            10+ years   \n",
       "24412                  8214     2         727.0              5 years   \n",
       "69116                 14889     2         713.0            10+ years   \n",
       "106151                 1023     2         698.0              7 years   \n",
       "124408                20570     2         721.0            10+ years   \n",
       "202282                 6065     2         743.0            10+ years   \n",
       "242914                 8266     2         734.0              2 years   \n",
       "\n",
       "       Home Ownership  Annual Income               Purpose        ...         \\\n",
       "23630        Own Home        42366.0           Take a Trip        ...          \n",
       "24412            Rent        70402.0  Educational Expenses        ...          \n",
       "69116        Own Home       127053.0           Take a Trip        ...          \n",
       "106151           Rent         6137.0  Educational Expenses        ...          \n",
       "124408       Own Home        62688.0           Take a Trip        ...          \n",
       "202282       Own Home        40432.0  Educational Expenses        ...          \n",
       "242914           Rent        44285.0  Educational Expenses        ...          \n",
       "\n",
       "        Months since last delinquent  Number of Open Accounts  \\\n",
       "23630                            NaN                        6   \n",
       "24412                            NaN                       11   \n",
       "69116                            NaN                       17   \n",
       "106151                           NaN                        7   \n",
       "124408                           NaN                       10   \n",
       "202282                           NaN                        5   \n",
       "242914                           NaN                        9   \n",
       "\n",
       "        Number of Credit Problems  Current Credit Balance  \\\n",
       "23630                           0                     410   \n",
       "24412                           0                   12373   \n",
       "69116                           0                   21831   \n",
       "106151                          0                    3483   \n",
       "124408                          1                   15478   \n",
       "202282                          0                    1628   \n",
       "242914                          0                    3138   \n",
       "\n",
       "        Maximum Open Credit  Bankruptcies Tax Liens  loan_status  \\\n",
       "23630                 18633           0.0       0.0            1   \n",
       "24412                 17803           0.0       0.0            0   \n",
       "69116                110819           0.0       0.0            1   \n",
       "106151                 9811           0.0       0.0            0   \n",
       "124408                16643           1.0       0.0            1   \n",
       "202282                30155           0.0       0.0            0   \n",
       "242914                 4329           0.0       0.0            0   \n",
       "\n",
       "        credit_level      purpose_type  \n",
       "23630      very_good  travel_house_edu  \n",
       "24412           good  travel_house_edu  \n",
       "69116           good  travel_house_edu  \n",
       "106151          good  travel_house_edu  \n",
       "124408          good  travel_house_edu  \n",
       "202282     very_good  travel_house_edu  \n",
       "242914          good  travel_house_edu  \n",
       "\n",
       "[7 rows x 22 columns]"
      ]
     },
     "execution_count": 2866,
     "metadata": {},
     "output_type": "execute_result"
    }
   ],
   "source": [
    "df[df[col].isnull()]"
   ]
  },
  {
   "cell_type": "code",
   "execution_count": 2867,
   "metadata": {
    "scrolled": true
   },
   "outputs": [
    {
     "data": {
      "text/plain": [
       "7"
      ]
     },
     "execution_count": 2867,
     "metadata": {},
     "output_type": "execute_result"
    }
   ],
   "source": [
    " df[col].isnull().sum()"
   ]
  },
  {
   "cell_type": "code",
   "execution_count": 2868,
   "metadata": {
    "scrolled": true
   },
   "outputs": [],
   "source": [
    "dd = df.groupby(['Loan Status', 'Home Ownership', 'Purpose'])\n",
    "# dd[dd[col].isnull()]\n",
    "t = dd[col]"
   ]
  },
  {
   "cell_type": "code",
   "execution_count": 2869,
   "metadata": {
    "scrolled": true
   },
   "outputs": [],
   "source": [
    "df[col] = t.apply(lambda x : x.fillna(x.median()))"
   ]
  },
  {
   "cell_type": "code",
   "execution_count": 2870,
   "metadata": {},
   "outputs": [
    {
     "data": {
      "text/plain": [
       "0"
      ]
     },
     "execution_count": 2870,
     "metadata": {},
     "output_type": "execute_result"
    }
   ],
   "source": [
    "df[col].isnull().sum()"
   ]
  },
  {
   "cell_type": "code",
   "execution_count": 2871,
   "metadata": {
    "scrolled": true
   },
   "outputs": [
    {
     "data": {
      "image/png": "[encoded data removed]",
      "text/plain": [
       "<Figure size 432x288 with 1 Axes>"
      ]
     },
     "metadata": {},
     "output_type": "display_data"
    }
   ],
   "source": [
    "plt.hist(df[col], bins = 200); # '>' not supported between instances of 'float' and 'method'\n",
    "# df.boxplot(column = col)"
   ]
  },
  {
   "cell_type": "code",
   "execution_count": 2872,
   "metadata": {},
   "outputs": [],
   "source": [
    "# Number of Open Accounts: The total number of open credit cards\n",
    "col = 'Number of Open Accounts'"
   ]
  },
  {
   "cell_type": "code",
   "execution_count": 2873,
   "metadata": {},
   "outputs": [
    {
     "name": "stdout",
     "output_type": "stream",
     "text": [
      "shape:  (159299,)\n",
      "missing:  0\n",
      "date type int64\n",
      "unique value:  57\n"
     ]
    }
   ],
   "source": [
    "print('shape: ', df[col].shape)\n",
    "print('missing: ', df[col].isnull().sum())\n",
    "print('date type', df[col].dtype)\n",
    "print('unique value: ', df[col].nunique())"
   ]
  },
  {
   "cell_type": "code",
   "execution_count": 2874,
   "metadata": {},
   "outputs": [
    {
     "data": {
      "text/plain": [
       "9     15191\n",
       "10    14484\n",
       "8     14399\n",
       "11    13175\n",
       "7     13154\n",
       "12    11654\n",
       "6     11055\n",
       "13     9972\n",
       "14     8359\n",
       "5      7784\n",
       "15     6625\n",
       "16     5547\n",
       "4      4559\n",
       "17     4487\n",
       "18     3556\n",
       "19     2879\n",
       "20     2196\n",
       "3      2064\n",
       "21     1746\n",
       "22     1301\n",
       "23     1043\n",
       "24      821\n",
       "2       677\n",
       "25      591\n",
       "26      459\n",
       "27      344\n",
       "28      234\n",
       "29      173\n",
       "30      144\n",
       "31      123\n",
       "32      118\n",
       "33       74\n",
       "34       68\n",
       "35       49\n",
       "36       31\n",
       "37       27\n",
       "38       24\n",
       "39       20\n",
       "1        19\n",
       "41       16\n",
       "40       16\n",
       "42        8\n",
       "45        7\n",
       "43        6\n",
       "47        3\n",
       "44        2\n",
       "46        2\n",
       "50        2\n",
       "52        2\n",
       "53        2\n",
       "56        1\n",
       "55        1\n",
       "48        1\n",
       "49        1\n",
       "51        1\n",
       "54        1\n",
       "0         1\n",
       "Name: Number of Open Accounts, dtype: int64"
      ]
     },
     "execution_count": 2874,
     "metadata": {},
     "output_type": "execute_result"
    }
   ],
   "source": [
    "df[col].value_counts()"
   ]
  },
  {
   "cell_type": "code",
   "execution_count": 2875,
   "metadata": {},
   "outputs": [
    {
     "data": {
      "image/png": "[encoded data removed]",
      "text/plain": [
       "<Figure size 432x288 with 1 Axes>"
      ]
     },
     "metadata": {},
     "output_type": "display_data"
    }
   ],
   "source": [
    "plt.hist(df[col], bins = 200);"
   ]
  },
  {
   "cell_type": "code",
   "execution_count": 2876,
   "metadata": {},
   "outputs": [],
   "source": [
    "# Number of Credit Problems : The number of credit problems in the customer records\n",
    "col = 'Number of Credit Problems'"
   ]
  },
  {
   "cell_type": "code",
   "execution_count": 2877,
   "metadata": {
    "scrolled": true
   },
   "outputs": [
    {
     "name": "stdout",
     "output_type": "stream",
     "text": [
      "shape:  (159299,)\n",
      "missing:  0\n",
      "date type int64\n",
      "unique value:  12\n"
     ]
    }
   ],
   "source": [
    "print('shape: ', df[col].shape)\n",
    "print('missing: ', df[col].isnull().sum())\n",
    "print('date type', df[col].dtype)\n",
    "print('unique value: ', df[col].nunique())"
   ]
  },
  {
   "cell_type": "code",
   "execution_count": 2878,
   "metadata": {
    "scrolled": false
   },
   "outputs": [
    {
     "data": {
      "text/plain": [
       "0     138330\n",
       "1      18347\n",
       "2       1827\n",
       "3        500\n",
       "4        166\n",
       "5         73\n",
       "6         29\n",
       "7         10\n",
       "8          8\n",
       "10         4\n",
       "9          4\n",
       "11         1\n",
       "Name: Number of Credit Problems, dtype: int64"
      ]
     },
     "execution_count": 2878,
     "metadata": {},
     "output_type": "execute_result"
    }
   ],
   "source": [
    "df[col].value_counts() # could be separate them into three four type: 0, 1, 2, more than 2"
   ]
  },
  {
   "cell_type": "code",
   "execution_count": 2879,
   "metadata": {},
   "outputs": [],
   "source": [
    "map2 = {0: '0_credit_problem', 1 : '1_credit_problem', 2 : '2_credit_problem', 3 : 'more_than_2',\n",
    "        4 : 'more_than_2',5 : 'more_than_2',6 : 'more_than_2',7: 'more_than_2',8 : 'more_than_2',\n",
    "        9 : 'more_than_2',10: 'more_than_2', 11: 'more_than_2'}"
   ]
  },
  {
   "cell_type": "code",
   "execution_count": 2880,
   "metadata": {},
   "outputs": [],
   "source": [
    "df['credit_problem_severity'] = df[col].map(map2)"
   ]
  },
  {
   "cell_type": "code",
   "execution_count": 2881,
   "metadata": {
    "scrolled": true
   },
   "outputs": [
    {
     "data": {
      "text/plain": [
       "0_credit_problem    138330\n",
       "1_credit_problem     18347\n",
       "2_credit_problem      1827\n",
       "more_than_2            795\n",
       "Name: credit_problem_severity, dtype: int64"
      ]
     },
     "execution_count": 2881,
     "metadata": {},
     "output_type": "execute_result"
    }
   ],
   "source": [
    "df['credit_problem_severity'].value_counts()"
   ]
  },
  {
   "cell_type": "code",
   "execution_count": 2882,
   "metadata": {
    "scrolled": true
   },
   "outputs": [
    {
     "data": {
      "image/png": "[encoded data removed]",
      "text/plain": [
       "<Figure size 432x288 with 1 Axes>"
      ]
     },
     "metadata": {},
     "output_type": "display_data"
    }
   ],
   "source": [
    "plt.hist(df[col], bins=200);"
   ]
  },
  {
   "cell_type": "code",
   "execution_count": 2883,
   "metadata": {},
   "outputs": [],
   "source": [
    "# Current Credit Balance: The current total debt for the customer\n",
    "col = 'Current Credit Balance'"
   ]
  },
  {
   "cell_type": "code",
   "execution_count": 2884,
   "metadata": {
    "scrolled": true
   },
   "outputs": [
    {
     "name": "stdout",
     "output_type": "stream",
     "text": [
      "shape:  (159299,)\n",
      "missing:  0\n",
      "date type int64\n",
      "unique value:  41144\n"
     ]
    }
   ],
   "source": [
    "print('shape: ', df[col].shape)\n",
    "print('missing: ', df[col].isnull().sum())\n",
    "print('date type', df[col].dtype)\n",
    "print('unique value: ', df[col].nunique())"
   ]
  },
  {
   "cell_type": "code",
   "execution_count": 2885,
   "metadata": {
    "scrolled": false
   },
   "outputs": [
    {
     "data": {
      "text/plain": [
       "0        988\n",
       "10228     22\n",
       "7346      20\n",
       "4831      19\n",
       "4654      19\n",
       "6427      19\n",
       "9430      19\n",
       "6384      18\n",
       "6201      18\n",
       "6151      18\n",
       "6259      18\n",
       "5289      18\n",
       "6910      18\n",
       "5512      18\n",
       "6292      18\n",
       "6933      18\n",
       "5841      18\n",
       "4848      18\n",
       "4353      18\n",
       "6307      17\n",
       "3600      17\n",
       "7512      17\n",
       "4632      17\n",
       "6943      17\n",
       "5856      17\n",
       "3484      17\n",
       "3918      17\n",
       "8679      17\n",
       "5659      17\n",
       "6980      17\n",
       "        ... \n",
       "28131      1\n",
       "46906      1\n",
       "54529      1\n",
       "67022      1\n",
       "34187      1\n",
       "21696      1\n",
       "48221      1\n",
       "35931      1\n",
       "29175      1\n",
       "34302      1\n",
       "62571      1\n",
       "50130      1\n",
       "52179      1\n",
       "37848      1\n",
       "33754      1\n",
       "22461      1\n",
       "48652      1\n",
       "34315      1\n",
       "40456      1\n",
       "54785      1\n",
       "43999      1\n",
       "23617      1\n",
       "25670      1\n",
       "28602      1\n",
       "54772      1\n",
       "60503      1\n",
       "26007      1\n",
       "37976      1\n",
       "32148      1\n",
       "73561      1\n",
       "Name: Current Credit Balance, Length: 41144, dtype: int64"
      ]
     },
     "execution_count": 2885,
     "metadata": {},
     "output_type": "execute_result"
    }
   ],
   "source": [
    "df[col].value_counts()"
   ]
  },
  {
   "cell_type": "code",
   "execution_count": 2886,
   "metadata": {},
   "outputs": [
    {
     "data": {
      "image/png": "[encoded data removed]",
      "text/plain": [
       "<Figure size 432x288 with 1 Axes>"
      ]
     },
     "metadata": {},
     "output_type": "display_data"
    }
   ],
   "source": [
    "plt.hist(df[col], bins=200);"
   ]
  },
  {
   "cell_type": "code",
   "execution_count": 2887,
   "metadata": {},
   "outputs": [],
   "source": [
    "# Maximum Open Credit: The maximum credit limit for all credit sources\n",
    "col = 'Maximum Open Credit'"
   ]
  },
  {
   "cell_type": "code",
   "execution_count": 2888,
   "metadata": {
    "scrolled": false
   },
   "outputs": [
    {
     "name": "stdout",
     "output_type": "stream",
     "text": [
      "shape:  (159299,)\n",
      "missing:  0\n",
      "date type :  object\n",
      "unique value:  74347\n"
     ]
    }
   ],
   "source": [
    "print('shape: ', df[col].shape)\n",
    "print('missing: ', df[col].isnull().sum())\n",
    "print('date type : ', df[col].dtype)\n",
    "print('unique value: ', df[col].nunique())"
   ]
  },
  {
   "cell_type": "code",
   "execution_count": 2889,
   "metadata": {
    "scrolled": true
   },
   "outputs": [
    {
     "name": "stdout",
     "output_type": "stream",
     "text": [
      "object\n"
     ]
    }
   ],
   "source": [
    "print(df[col].dtype)\n",
    "#df[col] = df[col].apply(lambda x : x.strip())"
   ]
  },
  {
   "cell_type": "code",
   "execution_count": 2890,
   "metadata": {
    "scrolled": true
   },
   "outputs": [
    {
     "name": "stdout",
     "output_type": "stream",
     "text": [
      "unique value :  [16056 19149 28335 ... 55520 37004 62371]\n"
     ]
    },
    {
     "data": {
      "text/plain": [
       "0         997\n",
       "0         153\n",
       "21523      13\n",
       "5981       12\n",
       "16679      12\n",
       "15847      12\n",
       "12195      12\n",
       "14048      12\n",
       "12202      12\n",
       "16709      12\n",
       "10198      12\n",
       "12024      12\n",
       "10180      12\n",
       "15348      11\n",
       "12497      11\n",
       "15218      11\n",
       "12172      11\n",
       "12306      11\n",
       "10264      11\n",
       "15829      11\n",
       "11755      11\n",
       "10440      11\n",
       "8524       11\n",
       "7140       11\n",
       "14864      11\n",
       "17928      11\n",
       "15662      11\n",
       "11128      11\n",
       "14200      11\n",
       "15959      11\n",
       "         ... \n",
       "77291       1\n",
       "99451       1\n",
       "133380      1\n",
       "13063       1\n",
       "18644       1\n",
       "2573        1\n",
       "18646       1\n",
       "48512       1\n",
       "2568        1\n",
       "133639      1\n",
       "129546      1\n",
       "10299       1\n",
       "45611       1\n",
       "128280      1\n",
       "134718      1\n",
       "15125       1\n",
       "3611        1\n",
       "3610        1\n",
       "12935       1\n",
       "3632        1\n",
       "3633        1\n",
       "9144        1\n",
       "3634        1\n",
       "3652        1\n",
       "21819       1\n",
       "211527      1\n",
       "3648        1\n",
       "15227       1\n",
       "33568       1\n",
       "32183       1\n",
       "Name: Maximum Open Credit, Length: 74347, dtype: int64"
      ]
     },
     "execution_count": 2890,
     "metadata": {},
     "output_type": "execute_result"
    }
   ],
   "source": [
    "print('unique value : ', df[col].unique())\n",
    "s = df[col].value_counts().sort_values(ascending=False) # string data type, with duplicate 0\n",
    "df[col] = df[col].astype(str)  # it has '#VALUE!' \n",
    "s"
   ]
  },
  {
   "cell_type": "code",
   "execution_count": 2891,
   "metadata": {
    "scrolled": true
   },
   "outputs": [
    {
     "name": "stdout",
     "output_type": "stream",
     "text": [
      "#VALUE! reocords :  (1, 23)\n",
      "0 value records :  (1150, 23)\n",
      "(0, 23)\n"
     ]
    }
   ],
   "source": [
    "print('#VALUE! reocords : ', df[df[col] == '#VALUE!'].shape)\n",
    "print('0 value records : ', df[df[col] == '0'].shape)\n",
    "print(df[df[col] == '100000000'].shape) # we can use 100000 to replace #value! for a while for converting datatype"
   ]
  },
  {
   "cell_type": "code",
   "execution_count": 2892,
   "metadata": {},
   "outputs": [],
   "source": [
    "df[col] = df[col].apply(lambda x : x.replace('#VALUE!', '10000000'))"
   ]
  },
  {
   "cell_type": "code",
   "execution_count": 2893,
   "metadata": {},
   "outputs": [],
   "source": [
    "df[col] = df[col].astype(int)"
   ]
  },
  {
   "cell_type": "code",
   "execution_count": 2894,
   "metadata": {},
   "outputs": [
    {
     "data": {
      "image/png": "[encoded data removed]",
      "text/plain": [
       "<Figure size 432x288 with 1 Axes>"
      ]
     },
     "metadata": {},
     "output_type": "display_data"
    }
   ],
   "source": [
    "plt.hist(df[col][df[col] < 100000 ], bins = 200);"
   ]
  },
  {
   "cell_type": "code",
   "execution_count": 2895,
   "metadata": {},
   "outputs": [],
   "source": [
    "# Bankruptcies: The number of bankruptcies\n",
    "col = 'Bankruptcies'"
   ]
  },
  {
   "cell_type": "code",
   "execution_count": 2896,
   "metadata": {},
   "outputs": [
    {
     "name": "stdout",
     "output_type": "stream",
     "text": [
      "shape:  (159299,)\n",
      "missing:  344\n",
      "date type :  float64\n",
      "unique value:  8\n"
     ]
    }
   ],
   "source": [
    "print('shape: ', df[col].shape)\n",
    "print('missing: ', df[col].isnull().sum())\n",
    "print('date type : ', df[col].dtype)\n",
    "print('unique value: ', df[col].nunique())"
   ]
  },
  {
   "cell_type": "code",
   "execution_count": 2897,
   "metadata": {
    "scrolled": false
   },
   "outputs": [
    {
     "data": {
      "text/plain": [
       "array([ 0.,  1.,  2., nan,  3.,  4.,  5.,  7.,  6.])"
      ]
     },
     "execution_count": 2897,
     "metadata": {},
     "output_type": "execute_result"
    }
   ],
   "source": [
    "df[col].unique()"
   ]
  },
  {
   "cell_type": "code",
   "execution_count": 2898,
   "metadata": {
    "scrolled": true
   },
   "outputs": [],
   "source": [
    "d = df.groupby(['Loan Status', 'Term', 'Home Ownership', 'Purpose'])[col] # these customer features\n",
    "#d.value_counts()"
   ]
  },
  {
   "cell_type": "code",
   "execution_count": 2899,
   "metadata": {},
   "outputs": [],
   "source": [
    "df[col] = d.apply(lambda x : x.fillna(x.median()))"
   ]
  },
  {
   "cell_type": "code",
   "execution_count": 2900,
   "metadata": {
    "scrolled": true
   },
   "outputs": [
    {
     "data": {
      "text/plain": [
       "0"
      ]
     },
     "execution_count": 2900,
     "metadata": {},
     "output_type": "execute_result"
    }
   ],
   "source": [
    "df[col].isnull().sum()"
   ]
  },
  {
   "cell_type": "code",
   "execution_count": 2901,
   "metadata": {},
   "outputs": [],
   "source": [
    "df[col] = df[col].astype(int)"
   ]
  },
  {
   "cell_type": "code",
   "execution_count": 2902,
   "metadata": {
    "scrolled": false
   },
   "outputs": [
    {
     "name": "stdout",
     "output_type": "stream",
     "text": [
      "[0 1 2 3 4 5 7 6]\n"
     ]
    },
    {
     "data": {
      "text/plain": [
       "0    142469\n",
       "1     16071\n",
       "2       608\n",
       "3       119\n",
       "4        20\n",
       "5         9\n",
       "6         2\n",
       "7         1\n",
       "Name: Bankruptcies, dtype: int64"
      ]
     },
     "execution_count": 2902,
     "metadata": {},
     "output_type": "execute_result"
    }
   ],
   "source": [
    "print(df[col].unique())  # could group into four type : 0,1, 2, > 2\n",
    "df[col].value_counts()"
   ]
  },
  {
   "cell_type": "code",
   "execution_count": 2903,
   "metadata": {},
   "outputs": [],
   "source": [
    "map3 = {0 : '0_bankrupt', 1 : '1_bankrupt', 2 : '2_bankrupt', 3 : 'more_than_2_bankrupt', 4 : 'more_than_2_bankrupt',\n",
    "        5 : 'more_than_2_bankrupt', 6 : 'more_than_2_bankrupt', 7 : 'more_than_2_bankrupt'}"
   ]
  },
  {
   "cell_type": "code",
   "execution_count": 2904,
   "metadata": {},
   "outputs": [],
   "source": [
    "df['Bankruptcy_status'] = df[col].map(map3)"
   ]
  },
  {
   "cell_type": "code",
   "execution_count": 2905,
   "metadata": {
    "scrolled": false
   },
   "outputs": [
    {
     "data": {
      "text/plain": [
       "0_bankrupt              142469\n",
       "1_bankrupt               16071\n",
       "2_bankrupt                 608\n",
       "more_than_2_bankrupt       151\n",
       "Name: Bankruptcy_status, dtype: int64"
      ]
     },
     "execution_count": 2905,
     "metadata": {},
     "output_type": "execute_result"
    }
   ],
   "source": [
    "df['Bankruptcy_status'].value_counts()"
   ]
  },
  {
   "cell_type": "code",
   "execution_count": 2906,
   "metadata": {},
   "outputs": [],
   "source": [
    "# plt.hist(df[col], bins = 200);"
   ]
  },
  {
   "cell_type": "code",
   "execution_count": 2907,
   "metadata": {},
   "outputs": [],
   "source": [
    "# Tax Liens: The number of tax liens\n",
    "col = 'Tax Liens'"
   ]
  },
  {
   "cell_type": "code",
   "execution_count": 2908,
   "metadata": {},
   "outputs": [
    {
     "name": "stdout",
     "output_type": "stream",
     "text": [
      "shape:  (159299,)\n",
      "missing:  14\n",
      "date type :  float64\n",
      "unique value:  12\n"
     ]
    }
   ],
   "source": [
    "print('shape: ', df[col].shape)\n",
    "print('missing: ', df[col].isnull().sum())\n",
    "print('date type : ', df[col].dtype)\n",
    "print('unique value: ', df[col].nunique())"
   ]
  },
  {
   "cell_type": "code",
   "execution_count": 2909,
   "metadata": {},
   "outputs": [
    {
     "data": {
      "text/plain": [
       "array([ 0.,  5., nan,  1.,  2.,  4.,  3.,  7.,  9.,  6.,  8., 10., 11.])"
      ]
     },
     "execution_count": 2909,
     "metadata": {},
     "output_type": "execute_result"
    }
   ],
   "source": [
    "df[col].unique()"
   ]
  },
  {
   "cell_type": "code",
   "execution_count": 2910,
   "metadata": {
    "scrolled": true
   },
   "outputs": [],
   "source": [
    "d = df.groupby(['Loan Status', 'Term', 'Home Ownership', 'Purpose'])[col] # these customer features\n",
    "#d.value_counts()"
   ]
  },
  {
   "cell_type": "code",
   "execution_count": 2911,
   "metadata": {},
   "outputs": [],
   "source": [
    "df[col] = d.apply(lambda x : x.fillna(x.median()))"
   ]
  },
  {
   "cell_type": "code",
   "execution_count": 2912,
   "metadata": {},
   "outputs": [
    {
     "data": {
      "text/plain": [
       "0"
      ]
     },
     "execution_count": 2912,
     "metadata": {},
     "output_type": "execute_result"
    }
   ],
   "source": [
    "df[col].isnull().sum()"
   ]
  },
  {
   "cell_type": "code",
   "execution_count": 2913,
   "metadata": {},
   "outputs": [],
   "source": [
    "df[col] = df[col].astype(int)"
   ]
  },
  {
   "cell_type": "code",
   "execution_count": 2914,
   "metadata": {},
   "outputs": [
    {
     "data": {
      "text/plain": [
       "array([ 0,  5,  1,  2,  4,  3,  7,  9,  6,  8, 10, 11])"
      ]
     },
     "execution_count": 2914,
     "metadata": {},
     "output_type": "execute_result"
    }
   ],
   "source": [
    "df[col].unique()"
   ]
  },
  {
   "cell_type": "code",
   "execution_count": 2915,
   "metadata": {
    "scrolled": false
   },
   "outputs": [
    {
     "data": {
      "text/plain": [
       "0     156545\n",
       "1       1937\n",
       "2        522\n",
       "3        153\n",
       "4         68\n",
       "5         37\n",
       "6         21\n",
       "7          5\n",
       "9          4\n",
       "8          4\n",
       "10         2\n",
       "11         1\n",
       "Name: Tax Liens, dtype: int64"
      ]
     },
     "execution_count": 2915,
     "metadata": {},
     "output_type": "execute_result"
    }
   ],
   "source": [
    "df[col].value_counts()  # group them 0, 1, 2 >2"
   ]
  },
  {
   "cell_type": "code",
   "execution_count": 2916,
   "metadata": {},
   "outputs": [],
   "source": [
    "map4 = {0 : '0_tax_lien', 1 : '1_tax_lien', 2 : '2_tax_lien', 3 : 'more_than_2_tax_lien', 4 : 'more_than_2_tax_lien', \n",
    "        5 : 'more_than_2_tax_lien', 6 : 'more_than_2_tax_lien', 7 : 'more_than_2_tax_lien', 9 : 'more_than_2_tax_lien',\n",
    "        10 : 'more_than_2_tax_lien', 11 : 'more_than_2_tax_lien'}"
   ]
  },
  {
   "cell_type": "code",
   "execution_count": 2917,
   "metadata": {},
   "outputs": [],
   "source": [
    "df['tax_liens_status'] = df[col].map(map4)"
   ]
  },
  {
   "cell_type": "code",
   "execution_count": 2918,
   "metadata": {},
   "outputs": [
    {
     "data": {
      "text/plain": [
       "0_tax_lien              156545\n",
       "1_tax_lien                1937\n",
       "2_tax_lien                 522\n",
       "more_than_2_tax_lien       291\n",
       "Name: tax_liens_status, dtype: int64"
      ]
     },
     "execution_count": 2918,
     "metadata": {},
     "output_type": "execute_result"
    }
   ],
   "source": [
    "df['tax_liens_status'].value_counts()"
   ]
  },
  {
   "cell_type": "code",
   "execution_count": 2919,
   "metadata": {},
   "outputs": [],
   "source": [
    "dt = df.copy()"
   ]
  },
  {
   "cell_type": "code",
   "execution_count": 2920,
   "metadata": {
    "scrolled": false
   },
   "outputs": [
    {
     "name": "stdout",
     "output_type": "stream",
     "text": [
      "<class 'pandas.core.frame.DataFrame'>\n",
      "Int64Index: 159299 entries, 0 to 256983\n",
      "Data columns (total 25 columns):\n",
      "Loan ID                         159299 non-null object\n",
      "Customer ID                     159299 non-null object\n",
      "Loan Status                     159299 non-null object\n",
      "Current Loan Amount             159299 non-null int64\n",
      "Term                            159299 non-null int64\n",
      "Credit Score                    159299 non-null float64\n",
      "Years in current job            159299 non-null object\n",
      "Home Ownership                  159299 non-null object\n",
      "Annual Income                   159299 non-null float64\n",
      "Purpose                         159299 non-null object\n",
      "Monthly Debt                    159299 non-null float64\n",
      "Years of Credit History         159299 non-null float64\n",
      "Months since last delinquent    159299 non-null float64\n",
      "Number of Open Accounts         159299 non-null int64\n",
      "Number of Credit Problems       159299 non-null int64\n",
      "Current Credit Balance          159299 non-null int64\n",
      "Maximum Open Credit             159299 non-null int64\n",
      "Bankruptcies                    159299 non-null int64\n",
      "Tax Liens                       159299 non-null int64\n",
      "loan_status                     159299 non-null int64\n",
      "credit_level                    159299 non-null object\n",
      "purpose_type                    159299 non-null object\n",
      "credit_problem_severity         159299 non-null object\n",
      "Bankruptcy_status               159299 non-null object\n",
      "tax_liens_status                159295 non-null object\n",
      "dtypes: float64(5), int64(9), object(11)\n",
      "memory usage: 31.6+ MB\n"
     ]
    }
   ],
   "source": [
    "dt.info()"
   ]
  },
  {
   "cell_type": "code",
   "execution_count": 2921,
   "metadata": {},
   "outputs": [],
   "source": [
    "drop_items = ['Loan Status', 'Bankruptcies', 'Credit Score', 'Purpose', 'Tax Liens', 'Number of Credit Problems']"
   ]
  },
  {
   "cell_type": "code",
   "execution_count": 2922,
   "metadata": {},
   "outputs": [
    {
     "data": {
      "text/plain": [
       "Loan ID                         0\n",
       "Customer ID                     0\n",
       "Loan Status                     0\n",
       "Current Loan Amount             0\n",
       "Term                            0\n",
       "Credit Score                    0\n",
       "Years in current job            0\n",
       "Home Ownership                  0\n",
       "Annual Income                   0\n",
       "Purpose                         0\n",
       "Monthly Debt                    0\n",
       "Years of Credit History         0\n",
       "Months since last delinquent    0\n",
       "Number of Open Accounts         0\n",
       "Number of Credit Problems       0\n",
       "Current Credit Balance          0\n",
       "Maximum Open Credit             0\n",
       "Bankruptcies                    0\n",
       "Tax Liens                       0\n",
       "loan_status                     0\n",
       "credit_level                    0\n",
       "purpose_type                    0\n",
       "credit_problem_severity         0\n",
       "Bankruptcy_status               0\n",
       "tax_liens_status                4\n",
       "dtype: int64"
      ]
     },
     "execution_count": 2922,
     "metadata": {},
     "output_type": "execute_result"
    }
   ],
   "source": [
    "dt.isnull().sum()"
   ]
  },
  {
   "cell_type": "code",
   "execution_count": 2923,
   "metadata": {},
   "outputs": [],
   "source": [
    "dt = dt.drop(columns = drop_items)"
   ]
  },
  {
   "cell_type": "code",
   "execution_count": 2924,
   "metadata": {
    "scrolled": false
   },
   "outputs": [
    {
     "data": {
      "text/plain": [
       "Index(['Loan ID', 'Customer ID', 'Current Loan Amount', 'Term',\n",
       "       'Years in current job', 'Home Ownership', 'Annual Income',\n",
       "       'Monthly Debt', 'Years of Credit History',\n",
       "       'Months since last delinquent', 'Number of Open Accounts',\n",
       "       'Current Credit Balance', 'Maximum Open Credit', 'loan_status',\n",
       "       'credit_level', 'purpose_type', 'credit_problem_severity',\n",
       "       'Bankruptcy_status', 'tax_liens_status'],\n",
       "      dtype='object')"
      ]
     },
     "execution_count": 2924,
     "metadata": {},
     "output_type": "execute_result"
    }
   ],
   "source": [
    "dt.columns"
   ]
  },
  {
   "cell_type": "code",
   "execution_count": 2925,
   "metadata": {},
   "outputs": [
    {
     "name": "stdout",
     "output_type": "stream",
     "text": [
      "(159299, 19)\n"
     ]
    }
   ],
   "source": [
    "print(dt.shape)"
   ]
  },
  {
   "cell_type": "code",
   "execution_count": 2926,
   "metadata": {
    "scrolled": true
   },
   "outputs": [
    {
     "name": "stdout",
     "output_type": "stream",
     "text": [
      "<class 'pandas.core.frame.DataFrame'>\n",
      "Int64Index: 159299 entries, 0 to 256983\n",
      "Data columns (total 19 columns):\n",
      "Loan ID                         159299 non-null object\n",
      "Customer ID                     159299 non-null object\n",
      "Current Loan Amount             159299 non-null int64\n",
      "Term                            159299 non-null int64\n",
      "Years in current job            159299 non-null object\n",
      "Home Ownership                  159299 non-null object\n",
      "Annual Income                   159299 non-null float64\n",
      "Monthly Debt                    159299 non-null float64\n",
      "Years of Credit History         159299 non-null float64\n",
      "Months since last delinquent    159299 non-null float64\n",
      "Number of Open Accounts         159299 non-null int64\n",
      "Current Credit Balance          159299 non-null int64\n",
      "Maximum Open Credit             159299 non-null int64\n",
      "loan_status                     159299 non-null int64\n",
      "credit_level                    159299 non-null object\n",
      "purpose_type                    159299 non-null object\n",
      "credit_problem_severity         159299 non-null object\n",
      "Bankruptcy_status               159299 non-null object\n",
      "tax_liens_status                159295 non-null object\n",
      "dtypes: float64(4), int64(6), object(9)\n",
      "memory usage: 24.3+ MB\n"
     ]
    }
   ],
   "source": [
    "dt.info()"
   ]
  },
  {
   "cell_type": "code",
   "execution_count": 2927,
   "metadata": {},
   "outputs": [],
   "source": [
    "# remove outfilers"
   ]
  },
  {
   "cell_type": "code",
   "execution_count": 2928,
   "metadata": {},
   "outputs": [],
   "source": [
    "outliers = dt.quantile(0.99)"
   ]
  },
  {
   "cell_type": "code",
   "execution_count": 2929,
   "metadata": {
    "scrolled": true
   },
   "outputs": [
    {
     "name": "stdout",
     "output_type": "stream",
     "text": [
      "float64\n"
     ]
    },
    {
     "data": {
      "text/plain": [
       "Current Loan Amount             99999999.00\n",
       "Term                                   2.00\n",
       "Annual Income                     199776.08\n",
       "Monthly Debt                        2903.72\n",
       "Years of Credit History               40.60\n",
       "Months since last delinquent          79.00\n",
       "Number of Open Accounts               26.00\n",
       "Current Credit Balance             75589.50\n",
       "Maximum Open Credit               162253.68\n",
       "loan_status                            1.00\n",
       "Name: 0.99, dtype: float64"
      ]
     },
     "execution_count": 2929,
     "metadata": {},
     "output_type": "execute_result"
    }
   ],
   "source": [
    "print(outliers.dtype)\n",
    "outliers"
   ]
  },
  {
   "cell_type": "code",
   "execution_count": 2930,
   "metadata": {
    "scrolled": true
   },
   "outputs": [
    {
     "data": {
      "text/plain": [
       "99999999.0"
      ]
     },
     "execution_count": 2930,
     "metadata": {},
     "output_type": "execute_result"
    }
   ],
   "source": [
    "outliers['Current Loan Amount']"
   ]
  },
  {
   "cell_type": "code",
   "execution_count": 2931,
   "metadata": {},
   "outputs": [],
   "source": [
    "#dt['Current Loan Amount'][dt['Current Loan Amount'] < outliers['Current Loan Amount']]"
   ]
  },
  {
   "cell_type": "code",
   "execution_count": 2932,
   "metadata": {},
   "outputs": [],
   "source": [
    "def print_len(dt, outliers):\n",
    "    columns = ['Current Loan Amount','Term', 'Annual Income','Monthly Debt', 'Years of Credit History',\n",
    "               'Months since last delinquent', 'Number of Open Accounts', 'Current Credit Balance','Maximum Open Credit',\n",
    "               'loan_status']\n",
    "    for item in columns:\n",
    "        print(item, len(dt[item][dt[item] < outliers[item]]))"
   ]
  },
  {
   "cell_type": "code",
   "execution_count": 2933,
   "metadata": {
    "scrolled": false
   },
   "outputs": [
    {
     "name": "stdout",
     "output_type": "stream",
     "text": [
      "Current Loan Amount 124420\n",
      "Term 123534\n",
      "Annual Income 157706\n",
      "Monthly Debt 157705\n",
      "Years of Credit History 157703\n",
      "Months since last delinquent 157664\n",
      "Number of Open Accounts 157339\n",
      "Current Credit Balance 157706\n",
      "Maximum Open Credit 157706\n",
      "loan_status 26573\n"
     ]
    }
   ],
   "source": [
    "print_len(dt, outliers)"
   ]
  },
  {
   "cell_type": "code",
   "execution_count": 2934,
   "metadata": {},
   "outputs": [],
   "source": [
    "selected_items_for_outliers = ['Annual Income', 'Current Credit Balance', 'Maximum Open Credit']"
   ]
  },
  {
   "cell_type": "code",
   "execution_count": 2935,
   "metadata": {
    "scrolled": false
   },
   "outputs": [
    {
     "name": "stdout",
     "output_type": "stream",
     "text": [
      "(159299, 19)\n"
     ]
    }
   ],
   "source": [
    "print(dt.shape)"
   ]
  },
  {
   "cell_type": "code",
   "execution_count": 2936,
   "metadata": {},
   "outputs": [],
   "source": [
    "def get_dt_after_outliers(dt, outliers, items):\n",
    "    for item in items:\n",
    "        dt = dt[dt[item] < outliers[item]]\n",
    "    return dt"
   ]
  },
  {
   "cell_type": "code",
   "execution_count": 2937,
   "metadata": {},
   "outputs": [],
   "source": [
    "dt = get_dt_after_outliers(dt, outliers, selected_items_for_outliers)"
   ]
  },
  {
   "cell_type": "code",
   "execution_count": 2938,
   "metadata": {},
   "outputs": [
    {
     "data": {
      "text/plain": [
       "(155596, 19)"
      ]
     },
     "execution_count": 2938,
     "metadata": {},
     "output_type": "execute_result"
    }
   ],
   "source": [
    "dt.shape"
   ]
  },
  {
   "cell_type": "code",
   "execution_count": 2939,
   "metadata": {},
   "outputs": [],
   "source": [
    "# create dummy "
   ]
  },
  {
   "cell_type": "code",
   "execution_count": 2940,
   "metadata": {
    "scrolled": false
   },
   "outputs": [
    {
     "name": "stdout",
     "output_type": "stream",
     "text": [
      "Index(['Loan ID', 'Customer ID', 'Current Loan Amount', 'Term',\n",
      "       'Years in current job', 'Home Ownership', 'Annual Income',\n",
      "       'Monthly Debt', 'Years of Credit History',\n",
      "       'Months since last delinquent', 'Number of Open Accounts',\n",
      "       'Current Credit Balance', 'Maximum Open Credit', 'loan_status',\n",
      "       'credit_level', 'purpose_type', 'credit_problem_severity',\n",
      "       'Bankruptcy_status', 'tax_liens_status'],\n",
      "      dtype='object')\n"
     ]
    }
   ],
   "source": [
    "print(dt.columns)"
   ]
  },
  {
   "cell_type": "code",
   "execution_count": 2941,
   "metadata": {
    "scrolled": false
   },
   "outputs": [
    {
     "name": "stdout",
     "output_type": "stream",
     "text": [
      "<class 'pandas.core.frame.DataFrame'>\n",
      "Int64Index: 155596 entries, 0 to 256983\n",
      "Data columns (total 19 columns):\n",
      "Loan ID                         155596 non-null object\n",
      "Customer ID                     155596 non-null object\n",
      "Current Loan Amount             155596 non-null int64\n",
      "Term                            155596 non-null int64\n",
      "Years in current job            155596 non-null object\n",
      "Home Ownership                  155596 non-null object\n",
      "Annual Income                   155596 non-null float64\n",
      "Monthly Debt                    155596 non-null float64\n",
      "Years of Credit History         155596 non-null float64\n",
      "Months since last delinquent    155596 non-null float64\n",
      "Number of Open Accounts         155596 non-null int64\n",
      "Current Credit Balance          155596 non-null int64\n",
      "Maximum Open Credit             155596 non-null int64\n",
      "loan_status                     155596 non-null int64\n",
      "credit_level                    155596 non-null object\n",
      "purpose_type                    155596 non-null object\n",
      "credit_problem_severity         155596 non-null object\n",
      "Bankruptcy_status               155596 non-null object\n",
      "tax_liens_status                155592 non-null object\n",
      "dtypes: float64(4), int64(6), object(9)\n",
      "memory usage: 23.7+ MB\n"
     ]
    }
   ],
   "source": [
    "dt.info()"
   ]
  },
  {
   "cell_type": "code",
   "execution_count": 2942,
   "metadata": {},
   "outputs": [],
   "source": [
    "dummy_items = ['Term', 'Years in current job', 'credit_level', 'Home Ownership', 'purpose_type', \n",
    "               'credit_problem_severity', 'Bankruptcy_status', 'tax_liens_status']"
   ]
  },
  {
   "cell_type": "code",
   "execution_count": 2943,
   "metadata": {},
   "outputs": [],
   "source": [
    "dt_dummy = pd.get_dummies(dt, columns=dummy_items, drop_first=True)"
   ]
  },
  {
   "cell_type": "code",
   "execution_count": 2944,
   "metadata": {},
   "outputs": [
    {
     "name": "stdout",
     "output_type": "stream",
     "text": [
      "<class 'pandas.core.frame.DataFrame'>\n",
      "Int64Index: 155596 entries, 0 to 256983\n",
      "Data columns (total 42 columns):\n",
      "Loan ID                                     155596 non-null object\n",
      "Customer ID                                 155596 non-null object\n",
      "Current Loan Amount                         155596 non-null int64\n",
      "Annual Income                               155596 non-null float64\n",
      "Monthly Debt                                155596 non-null float64\n",
      "Years of Credit History                     155596 non-null float64\n",
      "Months since last delinquent                155596 non-null float64\n",
      "Number of Open Accounts                     155596 non-null int64\n",
      "Current Credit Balance                      155596 non-null int64\n",
      "Maximum Open Credit                         155596 non-null int64\n",
      "loan_status                                 155596 non-null int64\n",
      "Term_2                                      155596 non-null uint8\n",
      "Years in current job_10+ years              155596 non-null uint8\n",
      "Years in current job_2 years                155596 non-null uint8\n",
      "Years in current job_3 years                155596 non-null uint8\n",
      "Years in current job_4 years                155596 non-null uint8\n",
      "Years in current job_5 years                155596 non-null uint8\n",
      "Years in current job_6 years                155596 non-null uint8\n",
      "Years in current job_7 years                155596 non-null uint8\n",
      "Years in current job_8 years                155596 non-null uint8\n",
      "Years in current job_9 years                155596 non-null uint8\n",
      "Years in current job_< 1 year               155596 non-null uint8\n",
      "credit_level_good                           155596 non-null uint8\n",
      "credit_level_very_good                      155596 non-null uint8\n",
      "Home Ownership_Home Mortgage                155596 non-null uint8\n",
      "Home Ownership_Own Home                     155596 non-null uint8\n",
      "Home Ownership_Rent                         155596 non-null uint8\n",
      "purpose_type_business_loan                  155596 non-null uint8\n",
      "purpose_type_car_purchasing                 155596 non-null uint8\n",
      "purpose_type_debt_consolid                  155596 non-null uint8\n",
      "purpose_type_home_improv                    155596 non-null uint8\n",
      "purpose_type_medical_bill                   155596 non-null uint8\n",
      "purpose_type_travel_house_edu               155596 non-null uint8\n",
      "credit_problem_severity_1_credit_problem    155596 non-null uint8\n",
      "credit_problem_severity_2_credit_problem    155596 non-null uint8\n",
      "credit_problem_severity_more_than_2         155596 non-null uint8\n",
      "Bankruptcy_status_1_bankrupt                155596 non-null uint8\n",
      "Bankruptcy_status_2_bankrupt                155596 non-null uint8\n",
      "Bankruptcy_status_more_than_2_bankrupt      155596 non-null uint8\n",
      "tax_liens_status_1_tax_lien                 155596 non-null uint8\n",
      "tax_liens_status_2_tax_lien                 155596 non-null uint8\n",
      "tax_liens_status_more_than_2_tax_lien       155596 non-null uint8\n",
      "dtypes: float64(4), int64(5), object(2), uint8(31)\n",
      "memory usage: 18.8+ MB\n"
     ]
    }
   ],
   "source": [
    "dt_dummy.info()"
   ]
  },
  {
   "cell_type": "code",
   "execution_count": 2945,
   "metadata": {},
   "outputs": [],
   "source": [
    "# correllation"
   ]
  },
  {
   "cell_type": "code",
   "execution_count": 2946,
   "metadata": {},
   "outputs": [],
   "source": [
    "# modeling "
   ]
  },
  {
   "cell_type": "code",
   "execution_count": 2947,
   "metadata": {},
   "outputs": [],
   "source": [
    "from sklearn.metrics import accuracy_score, precision_score, recall_score, f1_score\n",
    "from sklearn.naive_bayes import GaussianNB, BernoulliNB\n",
    "from sklearn.neighbors import KNeighborsClassifier\n",
    "from sklearn.linear_model import LogisticRegression\n",
    "from sklearn.tree import DecisionTreeClassifier\n",
    "from sklearn.ensemble import RandomForestClassifier, GradientBoostingClassifier\n",
    "\n",
    "from sklearn.cross_validation import train_test_split as tts"
   ]
  },
  {
   "cell_type": "code",
   "execution_count": 2948,
   "metadata": {},
   "outputs": [],
   "source": [
    "Dependent = 'loan_status'\n",
    "dropped_items = ['loan_status', 'Loan ID', 'Customer ID'] "
   ]
  },
  {
   "cell_type": "code",
   "execution_count": 2949,
   "metadata": {
    "scrolled": true
   },
   "outputs": [
    {
     "data": {
      "text/plain": [
       "(155596, 42)"
      ]
     },
     "execution_count": 2949,
     "metadata": {},
     "output_type": "execute_result"
    }
   ],
   "source": [
    "dt_dummy.shape"
   ]
  },
  {
   "cell_type": "code",
   "execution_count": 2950,
   "metadata": {},
   "outputs": [],
   "source": [
    "train_dt = dt_dummy[:120000]\n",
    "test_dt = dt_dummy[120001: ]"
   ]
  },
  {
   "cell_type": "code",
   "execution_count": 2982,
   "metadata": {
    "scrolled": true
   },
   "outputs": [],
   "source": [
    "X_test_dt = test_dt.copy()"
   ]
  },
  {
   "cell_type": "code",
   "execution_count": 2985,
   "metadata": {
    "scrolled": true
   },
   "outputs": [],
   "source": [
    "X_test_dt = X_test_dt.drop(columns=dropped_items)"
   ]
  },
  {
   "cell_type": "code",
   "execution_count": 2986,
   "metadata": {},
   "outputs": [
    {
     "data": {
      "text/plain": [
       "Index(['Current Loan Amount', 'Annual Income', 'Monthly Debt',\n",
       "       'Years of Credit History', 'Months since last delinquent',\n",
       "       'Number of Open Accounts', 'Current Credit Balance',\n",
       "       'Maximum Open Credit', 'Term_2', 'Years in current job_10+ years',\n",
       "       'Years in current job_2 years', 'Years in current job_3 years',\n",
       "       'Years in current job_4 years', 'Years in current job_5 years',\n",
       "       'Years in current job_6 years', 'Years in current job_7 years',\n",
       "       'Years in current job_8 years', 'Years in current job_9 years',\n",
       "       'Years in current job_< 1 year', 'credit_level_good',\n",
       "       'credit_level_very_good', 'Home Ownership_Home Mortgage',\n",
       "       'Home Ownership_Own Home', 'Home Ownership_Rent',\n",
       "       'purpose_type_business_loan', 'purpose_type_car_purchasing',\n",
       "       'purpose_type_debt_consolid', 'purpose_type_home_improv',\n",
       "       'purpose_type_medical_bill', 'purpose_type_travel_house_edu',\n",
       "       'credit_problem_severity_1_credit_problem',\n",
       "       'credit_problem_severity_2_credit_problem',\n",
       "       'credit_problem_severity_more_than_2', 'Bankruptcy_status_1_bankrupt',\n",
       "       'Bankruptcy_status_2_bankrupt',\n",
       "       'Bankruptcy_status_more_than_2_bankrupt', 'tax_liens_status_1_tax_lien',\n",
       "       'tax_liens_status_2_tax_lien', 'tax_liens_status_more_than_2_tax_lien'],\n",
       "      dtype='object')"
      ]
     },
     "execution_count": 2986,
     "metadata": {},
     "output_type": "execute_result"
    }
   ],
   "source": [
    "X_test_dt.columns"
   ]
  },
  {
   "cell_type": "code",
   "execution_count": 2987,
   "metadata": {},
   "outputs": [],
   "source": [
    "y_test_dt = test_dt[Dependent]"
   ]
  },
  {
   "cell_type": "code",
   "execution_count": 2988,
   "metadata": {},
   "outputs": [
    {
     "name": "stdout",
     "output_type": "stream",
     "text": [
      "(35595, 39)\n",
      "(35595,)\n"
     ]
    }
   ],
   "source": [
    "print(X_test_dt.shape)\n",
    "print(y_test_dt.shape)"
   ]
  },
  {
   "cell_type": "code",
   "execution_count": 2989,
   "metadata": {
    "scrolled": true
   },
   "outputs": [
    {
     "name": "stdout",
     "output_type": "stream",
     "text": [
      "(120000, 42)\n",
      "(35595, 42)\n"
     ]
    }
   ],
   "source": [
    "print(train_dt.shape)\n",
    "print(test_dt.shape)"
   ]
  },
  {
   "cell_type": "code",
   "execution_count": 2990,
   "metadata": {},
   "outputs": [
    {
     "name": "stdout",
     "output_type": "stream",
     "text": [
      "(120000, 39)\n"
     ]
    }
   ],
   "source": [
    "X = train_dt.copy()\n",
    "X = X.drop(columns=dropped_items)\n",
    "print(X.shape)"
   ]
  },
  {
   "cell_type": "code",
   "execution_count": 2991,
   "metadata": {},
   "outputs": [
    {
     "name": "stdout",
     "output_type": "stream",
     "text": [
      "(120000,)\n"
     ]
    }
   ],
   "source": [
    "y = train_dt[Dependent]\n",
    "print(y.shape)"
   ]
  },
  {
   "cell_type": "code",
   "execution_count": 2992,
   "metadata": {
    "scrolled": true
   },
   "outputs": [
    {
     "name": "stdout",
     "output_type": "stream",
     "text": [
      "(90000, 39) (30000, 39)\n",
      "(90000,) (30000,)\n"
     ]
    }
   ],
   "source": [
    "X_train, X_test, y_train, y_test = tts(X, y, test_size=0.25, random_state=0)\n",
    "print(X_train.shape, X_test.shape)\n",
    "print(y_train.shape, y_test.shape)"
   ]
  },
  {
   "cell_type": "code",
   "execution_count": 2993,
   "metadata": {},
   "outputs": [],
   "source": [
    "gbc = GradientBoostingClassifier()\n",
    "r   = RandomForestClassifier()\n",
    "d   = DecisionTreeClassifier()\n",
    "log = LogisticRegression()\n",
    "k   = KNeighborsClassifier()\n",
    "g   = GaussianNB()\n",
    "b   = BernoulliNB()"
   ]
  },
  {
   "cell_type": "code",
   "execution_count": 2994,
   "metadata": {},
   "outputs": [],
   "source": [
    "algorithms = [g, b, k, log, d, r, gbc] \n",
    "names = ['GuassianNB', 'Bernoulli NB', 'K-Nearest','Logistic', 'Decision Tree', \n",
    "         'Random Forest', 'Gradient Boosting'] "
   ]
  },
  {
   "cell_type": "code",
   "execution_count": 2995,
   "metadata": {},
   "outputs": [],
   "source": [
    "# define fuction to fit model with X_train, y_train"
   ]
  },
  {
   "cell_type": "code",
   "execution_count": 2996,
   "metadata": {},
   "outputs": [],
   "source": [
    "def train_model(X_train, X_test, y_train, y_test, algorithms, names, ave_method = 'binary'):\n",
    "    \n",
    "    for i in range(len(algorithms)):\n",
    "        algorithms[i] = algorithms[i].fit(X_train, y_train)\n",
    "\n",
    "    # lists to reocrd X_train, y_train fit result \n",
    "    accuracy_train = []\n",
    "    precision_trian = []\n",
    "    recall_train = []\n",
    "    f1_train = []\n",
    "    \n",
    "    # lists to reocrd X_test, y_test fit result\n",
    "    accuracy_test = []\n",
    "    precision_test = []\n",
    "    recall_test = []\n",
    "    f1_test = []\n",
    "  \n",
    "    for alg in algorithms:\n",
    "        # get score for train set\n",
    "        accuracy_train.append(accuracy_score(y_train, alg.predict(X_train)))\n",
    "        precision_trian.append(precision_score(y_train, alg.predict(X_train), average = ave_method))\n",
    "        recall_train.append(recall_score(y_train, alg.predict(X_train), average = ave_method))\n",
    "        f1_train.append(f1_score(y_train, alg.predict(X_train),average = ave_method))\n",
    "        \n",
    "        # get score for test data\n",
    "        accuracy_test.append(accuracy_score(y_test, alg.predict(X_test)))\n",
    "        precision_test.append(precision_score(y_test, alg.predict(X_test), average = ave_method))\n",
    "        recall_test.append(recall_score(y_test,alg.predict(X_test), average = ave_method))\n",
    "        f1_test.append(f1_score(y_test, alg.predict(X_test), average = ave_method))\n",
    "        \n",
    "    # metrics for reporting\n",
    "    cols = ['train_accuracy','train_precision','train_recall','train_F1', 'test_accuracy', \n",
    "            'test_precision', 'test_recall', 'test_F1']\n",
    "    \n",
    "    metrics = pd.DataFrame(columns = cols, index = names)\n",
    "    metrics['train_accuracy'] = accuracy_test\n",
    "    metrics['train_precision'] = precision_test\n",
    "    metrics['train_recall'] = recall_test\n",
    "    metrics['train_F1'] = f1_test\n",
    "    \n",
    "    metrics['test_accuracy'] = accuracy_test\n",
    "    metrics['test_precision'] = precision_test\n",
    "    metrics['test_recall'] = recall_test\n",
    "    metrics['test_F1'] = f1_test\n",
    "    \n",
    "    return metrics.sort_values('test_accuracy', ascending = False)"
   ]
  },
  {
   "cell_type": "code",
   "execution_count": 2997,
   "metadata": {},
   "outputs": [],
   "source": [
    "# define a function to predict result "
   ]
  },
  {
   "cell_type": "code",
   "execution_count": 3002,
   "metadata": {},
   "outputs": [],
   "source": [
    "def predict_results(X, y, X_test_dt, y_test_dt, \n",
    "                    ave_method, selected_alg, test_dt):\n",
    "    \n",
    "    alg = selected_alg.fit(X, y)\n",
    "    \n",
    "    y_predict = alg.predict(X_test_dt)\n",
    "    prob_0 = alg.predict_proba(X_test_dt)[:, 0]\n",
    "    prob_1 = alg.predict_proba(X_test_dt)[:, 1]\n",
    "    accuracy = accuracy_score(y_test_dt, y_predict)\n",
    "    precision = precision_score(y_test_dt, y_predict, \n",
    "                                average = ave_method)\n",
    "    recall = recall_score(y_test_dt, y_predict, average = ave_method)\n",
    "    F1 = f1_score(y_test_dt, y_predict, average = ave_method)\n",
    "\n",
    "    # metrics for result reporting \n",
    "    cols = ['Loan ID', \n",
    "            'predicted_loan_status', \n",
    "            'prob_0','prob_1', \n",
    "            'accuracy', \n",
    "            'precision', \n",
    "            'recall', \n",
    "            'F1']\n",
    "    prediction = pd.DataFrame(columns = cols)\n",
    "    prediction['Loan ID'] = test_dt['Loan ID']\n",
    "    prediction['predicted_loan_status'] = y_predict\n",
    "    prediction['prob_0'] = prob_0\n",
    "    prediction['prob_1'] = prob_1\n",
    "    prediction['accuracy'] = accuracy\n",
    "    prediction['precision'] = precision\n",
    "    prediction['recall'] = recall\n",
    "    prediction['F1'] = F1\n",
    "    \n",
    "    features = pd.DataFrame()\n",
    "    features['feature'] = X_test_dt.columns\n",
    "    features['importance'] = selected_alg.feature_importances_\n",
    "    \n",
    "    return prediction, features"
   ]
  },
  {
   "cell_type": "code",
   "execution_count": 1,
   "metadata": {},
   "outputs": [],
   "source": [
    "# trian model on X_train, y_test"
   ]
  },
  {
   "cell_type": "code",
   "execution_count": 2966,
   "metadata": {},
   "outputs": [],
   "source": [
    "train_model_results = train_model(X_train, X_test, y_train, y_test, \n",
    "                                  algorithms, names, \n",
    "                                  ave_method = 'binary')"
   ]
  },
  {
   "cell_type": "code",
   "execution_count": 2967,
   "metadata": {
    "scrolled": false
   },
   "outputs": [
    {
     "data": {
      "text/html": [
       "<div>\n",
       "<style scoped>\n",
       "    .dataframe tbody tr th:only-of-type {\n",
       "        vertical-align: middle;\n",
       "    }\n",
       "\n",
       "    .dataframe tbody tr th {\n",
       "        vertical-align: top;\n",
       "    }\n",
       "\n",
       "    .dataframe thead th {\n",
       "        text-align: right;\n",
       "    }\n",
       "</style>\n",
       "<table border=\"1\" class=\"dataframe\">\n",
       "  <thead>\n",
       "    <tr style=\"text-align: right;\">\n",
       "      <th></th>\n",
       "      <th>train_accuracy</th>\n",
       "      <th>train_precision</th>\n",
       "      <th>train_recall</th>\n",
       "      <th>train_F1</th>\n",
       "      <th>test_accuracy</th>\n",
       "      <th>test_precision</th>\n",
       "      <th>test_recall</th>\n",
       "      <th>test_F1</th>\n",
       "    </tr>\n",
       "  </thead>\n",
       "  <tbody>\n",
       "    <tr>\n",
       "      <th>Gradient Boosting</th>\n",
       "      <td>0.861833</td>\n",
       "      <td>0.863997</td>\n",
       "      <td>0.989023</td>\n",
       "      <td>0.922292</td>\n",
       "      <td>0.861833</td>\n",
       "      <td>0.863997</td>\n",
       "      <td>0.989023</td>\n",
       "      <td>0.922292</td>\n",
       "    </tr>\n",
       "    <tr>\n",
       "      <th>Random Forest</th>\n",
       "      <td>0.850200</td>\n",
       "      <td>0.882207</td>\n",
       "      <td>0.945559</td>\n",
       "      <td>0.912785</td>\n",
       "      <td>0.850200</td>\n",
       "      <td>0.882207</td>\n",
       "      <td>0.945559</td>\n",
       "      <td>0.912785</td>\n",
       "    </tr>\n",
       "    <tr>\n",
       "      <th>Logistic</th>\n",
       "      <td>0.828933</td>\n",
       "      <td>0.829016</td>\n",
       "      <td>0.999879</td>\n",
       "      <td>0.906466</td>\n",
       "      <td>0.828933</td>\n",
       "      <td>0.829016</td>\n",
       "      <td>0.999879</td>\n",
       "      <td>0.906466</td>\n",
       "    </tr>\n",
       "    <tr>\n",
       "      <th>Bernoulli NB</th>\n",
       "      <td>0.828500</td>\n",
       "      <td>0.829558</td>\n",
       "      <td>0.998231</td>\n",
       "      <td>0.906111</td>\n",
       "      <td>0.828500</td>\n",
       "      <td>0.829558</td>\n",
       "      <td>0.998231</td>\n",
       "      <td>0.906111</td>\n",
       "    </tr>\n",
       "    <tr>\n",
       "      <th>Decision Tree</th>\n",
       "      <td>0.814600</td>\n",
       "      <td>0.891330</td>\n",
       "      <td>0.884162</td>\n",
       "      <td>0.887732</td>\n",
       "      <td>0.814600</td>\n",
       "      <td>0.891330</td>\n",
       "      <td>0.884162</td>\n",
       "      <td>0.887732</td>\n",
       "    </tr>\n",
       "    <tr>\n",
       "      <th>K-Nearest</th>\n",
       "      <td>0.801033</td>\n",
       "      <td>0.839037</td>\n",
       "      <td>0.940413</td>\n",
       "      <td>0.886837</td>\n",
       "      <td>0.801033</td>\n",
       "      <td>0.839037</td>\n",
       "      <td>0.940413</td>\n",
       "      <td>0.886837</td>\n",
       "    </tr>\n",
       "    <tr>\n",
       "      <th>GuassianNB</th>\n",
       "      <td>0.383733</td>\n",
       "      <td>0.999687</td>\n",
       "      <td>0.256725</td>\n",
       "      <td>0.408535</td>\n",
       "      <td>0.383733</td>\n",
       "      <td>0.999687</td>\n",
       "      <td>0.256725</td>\n",
       "      <td>0.408535</td>\n",
       "    </tr>\n",
       "  </tbody>\n",
       "</table>\n",
       "</div>"
      ],
      "text/plain": [
       "                   train_accuracy  train_precision  train_recall  train_F1  \\\n",
       "Gradient Boosting        0.861833         0.863997      0.989023  0.922292   \n",
       "Random Forest            0.850200         0.882207      0.945559  0.912785   \n",
       "Logistic                 0.828933         0.829016      0.999879  0.906466   \n",
       "Bernoulli NB             0.828500         0.829558      0.998231  0.906111   \n",
       "Decision Tree            0.814600         0.891330      0.884162  0.887732   \n",
       "K-Nearest                0.801033         0.839037      0.940413  0.886837   \n",
       "GuassianNB               0.383733         0.999687      0.256725  0.408535   \n",
       "\n",
       "                   test_accuracy  test_precision  test_recall   test_F1  \n",
       "Gradient Boosting       0.861833        0.863997     0.989023  0.922292  \n",
       "Random Forest           0.850200        0.882207     0.945559  0.912785  \n",
       "Logistic                0.828933        0.829016     0.999879  0.906466  \n",
       "Bernoulli NB            0.828500        0.829558     0.998231  0.906111  \n",
       "Decision Tree           0.814600        0.891330     0.884162  0.887732  \n",
       "K-Nearest               0.801033        0.839037     0.940413  0.886837  \n",
       "GuassianNB              0.383733        0.999687     0.256725  0.408535  "
      ]
     },
     "execution_count": 2967,
     "metadata": {},
     "output_type": "execute_result"
    }
   ],
   "source": [
    "train_model_results"
   ]
  },
  {
   "cell_type": "code",
   "execution_count": 2968,
   "metadata": {},
   "outputs": [
    {
     "data": {
      "text/plain": [
       "dtype('O')"
      ]
     },
     "execution_count": 2968,
     "metadata": {},
     "output_type": "execute_result"
    }
   ],
   "source": [
    "test_dt.shape\n",
    "#test_dt.info()\n",
    "test_dt['Loan ID'].dtype"
   ]
  },
  {
   "cell_type": "code",
   "execution_count": 3003,
   "metadata": {},
   "outputs": [],
   "source": [
    "# predit result on X_test, y_test"
   ]
  },
  {
   "cell_type": "code",
   "execution_count": 3004,
   "metadata": {
    "scrolled": true
   },
   "outputs": [],
   "source": [
    "predicted_results, feature_importance = predict_results(X, y, \n",
    "                                                        X_test_dt, \n",
    "                                                        y_test_dt, \n",
    "                                                        'weighted', \n",
    "                                                        gbc, test_dt)"
   ]
  },
  {
   "cell_type": "code",
   "execution_count": 3006,
   "metadata": {},
   "outputs": [
    {
     "data": {
      "text/html": [
       "<div>\n",
       "<style scoped>\n",
       "    .dataframe tbody tr th:only-of-type {\n",
       "        vertical-align: middle;\n",
       "    }\n",
       "\n",
       "    .dataframe tbody tr th {\n",
       "        vertical-align: top;\n",
       "    }\n",
       "\n",
       "    .dataframe thead th {\n",
       "        text-align: right;\n",
       "    }\n",
       "</style>\n",
       "<table border=\"1\" class=\"dataframe\">\n",
       "  <thead>\n",
       "    <tr style=\"text-align: right;\">\n",
       "      <th></th>\n",
       "      <th>Loan ID</th>\n",
       "      <th>predicted_loan_status</th>\n",
       "      <th>prob_0</th>\n",
       "      <th>prob_1</th>\n",
       "      <th>accuracy</th>\n",
       "      <th>precision</th>\n",
       "      <th>recall</th>\n",
       "      <th>F1</th>\n",
       "    </tr>\n",
       "  </thead>\n",
       "  <tbody>\n",
       "    <tr>\n",
       "      <th>198246</th>\n",
       "      <td>c533fcb1-8440-4095-bc92-f43fcbb36ea9</td>\n",
       "      <td>1</td>\n",
       "      <td>0.003673</td>\n",
       "      <td>0.996327</td>\n",
       "      <td>0.867622</td>\n",
       "      <td>0.860134</td>\n",
       "      <td>0.867622</td>\n",
       "      <td>0.837134</td>\n",
       "    </tr>\n",
       "    <tr>\n",
       "      <th>198248</th>\n",
       "      <td>c5349d53-b947-4ca4-8817-363fdbb84b30</td>\n",
       "      <td>1</td>\n",
       "      <td>0.006435</td>\n",
       "      <td>0.993565</td>\n",
       "      <td>0.867622</td>\n",
       "      <td>0.860134</td>\n",
       "      <td>0.867622</td>\n",
       "      <td>0.837134</td>\n",
       "    </tr>\n",
       "    <tr>\n",
       "      <th>198249</th>\n",
       "      <td>c534ab86-23c5-443e-ae43-ed0806c81560</td>\n",
       "      <td>1</td>\n",
       "      <td>0.095872</td>\n",
       "      <td>0.904128</td>\n",
       "      <td>0.867622</td>\n",
       "      <td>0.860134</td>\n",
       "      <td>0.867622</td>\n",
       "      <td>0.837134</td>\n",
       "    </tr>\n",
       "  </tbody>\n",
       "</table>\n",
       "</div>"
      ],
      "text/plain": [
       "                                     Loan ID  predicted_loan_status    prob_0  \\\n",
       "198246  c533fcb1-8440-4095-bc92-f43fcbb36ea9                      1  0.003673   \n",
       "198248  c5349d53-b947-4ca4-8817-363fdbb84b30                      1  0.006435   \n",
       "198249  c534ab86-23c5-443e-ae43-ed0806c81560                      1  0.095872   \n",
       "\n",
       "          prob_1  accuracy  precision    recall        F1  \n",
       "198246  0.996327  0.867622   0.860134  0.867622  0.837134  \n",
       "198248  0.993565  0.867622   0.860134  0.867622  0.837134  \n",
       "198249  0.904128  0.867622   0.860134  0.867622  0.837134  "
      ]
     },
     "execution_count": 3006,
     "metadata": {},
     "output_type": "execute_result"
    }
   ],
   "source": [
    "predicted_results.head(3)"
   ]
  },
  {
   "cell_type": "code",
   "execution_count": 3012,
   "metadata": {},
   "outputs": [],
   "source": [
    "feature_importance.sort_values(by = ['importance'], \n",
    "                               ascending= False, \n",
    "                               inplace= True)"
   ]
  },
  {
   "cell_type": "code",
   "execution_count": 3019,
   "metadata": {},
   "outputs": [
    {
     "data": {
      "text/html": [
       "<div>\n",
       "<style scoped>\n",
       "    .dataframe tbody tr th:only-of-type {\n",
       "        vertical-align: middle;\n",
       "    }\n",
       "\n",
       "    .dataframe tbody tr th {\n",
       "        vertical-align: top;\n",
       "    }\n",
       "\n",
       "    .dataframe thead th {\n",
       "        text-align: right;\n",
       "    }\n",
       "</style>\n",
       "<table border=\"1\" class=\"dataframe\">\n",
       "  <thead>\n",
       "    <tr style=\"text-align: right;\">\n",
       "      <th></th>\n",
       "      <th>feature</th>\n",
       "      <th>importance</th>\n",
       "    </tr>\n",
       "  </thead>\n",
       "  <tbody>\n",
       "    <tr>\n",
       "      <th>4</th>\n",
       "      <td>Months since last delinquent</td>\n",
       "      <td>0.316989</td>\n",
       "    </tr>\n",
       "    <tr>\n",
       "      <th>0</th>\n",
       "      <td>Current Loan Amount</td>\n",
       "      <td>0.172129</td>\n",
       "    </tr>\n",
       "    <tr>\n",
       "      <th>1</th>\n",
       "      <td>Annual Income</td>\n",
       "      <td>0.125347</td>\n",
       "    </tr>\n",
       "    <tr>\n",
       "      <th>21</th>\n",
       "      <td>Home Ownership_Home Mortgage</td>\n",
       "      <td>0.056434</td>\n",
       "    </tr>\n",
       "    <tr>\n",
       "      <th>2</th>\n",
       "      <td>Monthly Debt</td>\n",
       "      <td>0.050001</td>\n",
       "    </tr>\n",
       "    <tr>\n",
       "      <th>20</th>\n",
       "      <td>credit_level_very_good</td>\n",
       "      <td>0.039849</td>\n",
       "    </tr>\n",
       "    <tr>\n",
       "      <th>8</th>\n",
       "      <td>Term_2</td>\n",
       "      <td>0.037621</td>\n",
       "    </tr>\n",
       "    <tr>\n",
       "      <th>6</th>\n",
       "      <td>Current Credit Balance</td>\n",
       "      <td>0.035918</td>\n",
       "    </tr>\n",
       "    <tr>\n",
       "      <th>7</th>\n",
       "      <td>Maximum Open Credit</td>\n",
       "      <td>0.030075</td>\n",
       "    </tr>\n",
       "    <tr>\n",
       "      <th>3</th>\n",
       "      <td>Years of Credit History</td>\n",
       "      <td>0.030055</td>\n",
       "    </tr>\n",
       "  </tbody>\n",
       "</table>\n",
       "</div>"
      ],
      "text/plain": [
       "                         feature  importance\n",
       "4   Months since last delinquent    0.316989\n",
       "0            Current Loan Amount    0.172129\n",
       "1                  Annual Income    0.125347\n",
       "21  Home Ownership_Home Mortgage    0.056434\n",
       "2                   Monthly Debt    0.050001\n",
       "20        credit_level_very_good    0.039849\n",
       "8                         Term_2    0.037621\n",
       "6         Current Credit Balance    0.035918\n",
       "7            Maximum Open Credit    0.030075\n",
       "3        Years of Credit History    0.030055"
      ]
     },
     "execution_count": 3019,
     "metadata": {},
     "output_type": "execute_result"
    }
   ],
   "source": [
    "feature_importance = \n",
    "feature_importance[feature_importance['importance'] > 0]\n",
    "feature_importance.head(10)"
   ]
  },
  {
   "cell_type": "code",
   "execution_count": null,
   "metadata": {},
   "outputs": [],
   "source": [
    "# questions to ask the customer when they apply for a loan \n",
    "# - Months since last deliniquent\n",
    "# - Annual income\n",
    "# - how many you want pay for loan each month?\n",
    "# - credit score\n",
    "# - long term loan or short loan? "
   ]
  }
 ],
 "metadata": {
  "kernelspec": {
   "display_name": "Python 3",
   "language": "python",
   "name": "python3"
  },
  "language_info": {
   "codemirror_mode": {
    "name": "ipython",
    "version": 3
   },
   "file_extension": ".py",
   "mimetype": "text/x-python",
   "name": "python",
   "nbconvert_exporter": "python",
   "pygments_lexer": "ipython3",
   "version": "3.5.5"
  }
 },
 "nbformat": 4,
 "nbformat_minor": 2
}
